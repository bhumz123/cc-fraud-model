{
 "cells": [
  {
   "cell_type": "code",
   "execution_count": 1,
   "id": "25a97996",
   "metadata": {},
   "outputs": [],
   "source": [
    "import pandas as pd\n",
    "import numpy as np"
   ]
  },
  {
   "cell_type": "markdown",
   "id": "a0363466",
   "metadata": {},
   "source": [
    "#### Importing dataset"
   ]
  },
  {
   "cell_type": "code",
   "execution_count": 2,
   "id": "b80fd31c",
   "metadata": {},
   "outputs": [],
   "source": [
    "from skmultiflow.data import DataStream\n",
    "# Read the CSV file into a Pandas DataFrame\n",
    "df = pd.read_csv('Selected_Features.csv', delimiter=',')"
   ]
  },
  {
   "cell_type": "code",
   "execution_count": 3,
   "id": "90548a71",
   "metadata": {},
   "outputs": [
    {
     "data": {
      "text/html": [
       "<div>\n",
       "<style scoped>\n",
       "    .dataframe tbody tr th:only-of-type {\n",
       "        vertical-align: middle;\n",
       "    }\n",
       "\n",
       "    .dataframe tbody tr th {\n",
       "        vertical-align: top;\n",
       "    }\n",
       "\n",
       "    .dataframe thead th {\n",
       "        text-align: right;\n",
       "    }\n",
       "</style>\n",
       "<table border=\"1\" class=\"dataframe\">\n",
       "  <thead>\n",
       "    <tr style=\"text-align: right;\">\n",
       "      <th></th>\n",
       "      <th>amt</th>\n",
       "      <th>city_pop</th>\n",
       "      <th>trans_month</th>\n",
       "      <th>Weekday</th>\n",
       "      <th>category_food_dining</th>\n",
       "      <th>category_gas_transport</th>\n",
       "      <th>category_grocery_net</th>\n",
       "      <th>category_grocery_pos</th>\n",
       "      <th>category_health_fitness</th>\n",
       "      <th>category_home</th>\n",
       "      <th>...</th>\n",
       "      <th>Frequency_1DAY_WINDOW</th>\n",
       "      <th>Monetary_1DAY_WINDOW</th>\n",
       "      <th>Monetary_7DAY_WINDOW</th>\n",
       "      <th>merchant_NB_TX_1DAY_WINDOW</th>\n",
       "      <th>merchant_RISK_1DAY_WINDOW</th>\n",
       "      <th>merchant_RISK_7DAY_WINDOW</th>\n",
       "      <th>category_NB_TX_1DAY_WINDOW</th>\n",
       "      <th>category_RISK_1DAY_WINDOW</th>\n",
       "      <th>distance</th>\n",
       "      <th>is_fraud</th>\n",
       "    </tr>\n",
       "  </thead>\n",
       "  <tbody>\n",
       "    <tr>\n",
       "      <th>4</th>\n",
       "      <td>727.560000</td>\n",
       "      <td>737</td>\n",
       "      <td>3</td>\n",
       "      <td>1</td>\n",
       "      <td>0</td>\n",
       "      <td>0</td>\n",
       "      <td>0</td>\n",
       "      <td>0</td>\n",
       "      <td>0</td>\n",
       "      <td>0</td>\n",
       "      <td>...</td>\n",
       "      <td>6.000000</td>\n",
       "      <td>513.525000</td>\n",
       "      <td>305.419412</td>\n",
       "      <td>1.0</td>\n",
       "      <td>0.0</td>\n",
       "      <td>0.0</td>\n",
       "      <td>1.0</td>\n",
       "      <td>0.0</td>\n",
       "      <td>81.109957</td>\n",
       "      <td>1</td>\n",
       "    </tr>\n",
       "    <tr>\n",
       "      <th>65</th>\n",
       "      <td>753.950000</td>\n",
       "      <td>737</td>\n",
       "      <td>3</td>\n",
       "      <td>0</td>\n",
       "      <td>0</td>\n",
       "      <td>0</td>\n",
       "      <td>0</td>\n",
       "      <td>0</td>\n",
       "      <td>0</td>\n",
       "      <td>0</td>\n",
       "      <td>...</td>\n",
       "      <td>4.000000</td>\n",
       "      <td>428.315000</td>\n",
       "      <td>178.918333</td>\n",
       "      <td>1.0</td>\n",
       "      <td>0.0</td>\n",
       "      <td>0.0</td>\n",
       "      <td>1.0</td>\n",
       "      <td>0.0</td>\n",
       "      <td>103.325912</td>\n",
       "      <td>1</td>\n",
       "    </tr>\n",
       "    <tr>\n",
       "      <th>362</th>\n",
       "      <td>352.480000</td>\n",
       "      <td>397</td>\n",
       "      <td>2</td>\n",
       "      <td>1</td>\n",
       "      <td>0</td>\n",
       "      <td>0</td>\n",
       "      <td>0</td>\n",
       "      <td>1</td>\n",
       "      <td>0</td>\n",
       "      <td>0</td>\n",
       "      <td>...</td>\n",
       "      <td>5.000000</td>\n",
       "      <td>379.690000</td>\n",
       "      <td>229.224762</td>\n",
       "      <td>1.0</td>\n",
       "      <td>0.0</td>\n",
       "      <td>0.0</td>\n",
       "      <td>1.0</td>\n",
       "      <td>0.0</td>\n",
       "      <td>83.377704</td>\n",
       "      <td>1</td>\n",
       "    </tr>\n",
       "    <tr>\n",
       "      <th>499</th>\n",
       "      <td>930.990000</td>\n",
       "      <td>1202</td>\n",
       "      <td>8</td>\n",
       "      <td>1</td>\n",
       "      <td>0</td>\n",
       "      <td>0</td>\n",
       "      <td>0</td>\n",
       "      <td>0</td>\n",
       "      <td>0</td>\n",
       "      <td>0</td>\n",
       "      <td>...</td>\n",
       "      <td>5.000000</td>\n",
       "      <td>611.388000</td>\n",
       "      <td>324.377000</td>\n",
       "      <td>1.0</td>\n",
       "      <td>0.0</td>\n",
       "      <td>0.0</td>\n",
       "      <td>1.0</td>\n",
       "      <td>0.0</td>\n",
       "      <td>49.727068</td>\n",
       "      <td>1</td>\n",
       "    </tr>\n",
       "    <tr>\n",
       "      <th>792</th>\n",
       "      <td>866.280000</td>\n",
       "      <td>1909</td>\n",
       "      <td>7</td>\n",
       "      <td>1</td>\n",
       "      <td>0</td>\n",
       "      <td>0</td>\n",
       "      <td>0</td>\n",
       "      <td>0</td>\n",
       "      <td>0</td>\n",
       "      <td>0</td>\n",
       "      <td>...</td>\n",
       "      <td>4.000000</td>\n",
       "      <td>432.785000</td>\n",
       "      <td>142.274250</td>\n",
       "      <td>1.0</td>\n",
       "      <td>0.0</td>\n",
       "      <td>0.0</td>\n",
       "      <td>1.0</td>\n",
       "      <td>0.0</td>\n",
       "      <td>44.374615</td>\n",
       "      <td>1</td>\n",
       "    </tr>\n",
       "    <tr>\n",
       "      <th>...</th>\n",
       "      <td>...</td>\n",
       "      <td>...</td>\n",
       "      <td>...</td>\n",
       "      <td>...</td>\n",
       "      <td>...</td>\n",
       "      <td>...</td>\n",
       "      <td>...</td>\n",
       "      <td>...</td>\n",
       "      <td>...</td>\n",
       "      <td>...</td>\n",
       "      <td>...</td>\n",
       "      <td>...</td>\n",
       "      <td>...</td>\n",
       "      <td>...</td>\n",
       "      <td>...</td>\n",
       "      <td>...</td>\n",
       "      <td>...</td>\n",
       "      <td>...</td>\n",
       "      <td>...</td>\n",
       "      <td>...</td>\n",
       "      <td>...</td>\n",
       "    </tr>\n",
       "    <tr>\n",
       "      <th>2062212</th>\n",
       "      <td>822.162922</td>\n",
       "      <td>1701</td>\n",
       "      <td>4</td>\n",
       "      <td>1</td>\n",
       "      <td>0</td>\n",
       "      <td>0</td>\n",
       "      <td>0</td>\n",
       "      <td>0</td>\n",
       "      <td>0</td>\n",
       "      <td>0</td>\n",
       "      <td>...</td>\n",
       "      <td>7.960907</td>\n",
       "      <td>424.475889</td>\n",
       "      <td>157.448078</td>\n",
       "      <td>1.0</td>\n",
       "      <td>0.0</td>\n",
       "      <td>0.0</td>\n",
       "      <td>1.0</td>\n",
       "      <td>0.0</td>\n",
       "      <td>70.010940</td>\n",
       "      <td>1</td>\n",
       "    </tr>\n",
       "    <tr>\n",
       "      <th>2062213</th>\n",
       "      <td>867.200643</td>\n",
       "      <td>2566</td>\n",
       "      <td>4</td>\n",
       "      <td>1</td>\n",
       "      <td>0</td>\n",
       "      <td>0</td>\n",
       "      <td>0</td>\n",
       "      <td>0</td>\n",
       "      <td>0</td>\n",
       "      <td>0</td>\n",
       "      <td>...</td>\n",
       "      <td>7.000000</td>\n",
       "      <td>828.588578</td>\n",
       "      <td>394.262589</td>\n",
       "      <td>1.0</td>\n",
       "      <td>0.0</td>\n",
       "      <td>0.0</td>\n",
       "      <td>1.0</td>\n",
       "      <td>0.0</td>\n",
       "      <td>57.768957</td>\n",
       "      <td>1</td>\n",
       "    </tr>\n",
       "    <tr>\n",
       "      <th>2062214</th>\n",
       "      <td>864.113532</td>\n",
       "      <td>2099</td>\n",
       "      <td>4</td>\n",
       "      <td>1</td>\n",
       "      <td>0</td>\n",
       "      <td>0</td>\n",
       "      <td>0</td>\n",
       "      <td>0</td>\n",
       "      <td>0</td>\n",
       "      <td>0</td>\n",
       "      <td>...</td>\n",
       "      <td>7.518016</td>\n",
       "      <td>525.215419</td>\n",
       "      <td>232.678566</td>\n",
       "      <td>1.0</td>\n",
       "      <td>0.0</td>\n",
       "      <td>0.0</td>\n",
       "      <td>1.0</td>\n",
       "      <td>0.0</td>\n",
       "      <td>68.928900</td>\n",
       "      <td>1</td>\n",
       "    </tr>\n",
       "    <tr>\n",
       "      <th>2062215</th>\n",
       "      <td>883.236326</td>\n",
       "      <td>2566</td>\n",
       "      <td>4</td>\n",
       "      <td>1</td>\n",
       "      <td>0</td>\n",
       "      <td>0</td>\n",
       "      <td>0</td>\n",
       "      <td>0</td>\n",
       "      <td>0</td>\n",
       "      <td>0</td>\n",
       "      <td>...</td>\n",
       "      <td>7.000000</td>\n",
       "      <td>763.877967</td>\n",
       "      <td>368.596562</td>\n",
       "      <td>1.0</td>\n",
       "      <td>0.0</td>\n",
       "      <td>0.0</td>\n",
       "      <td>1.0</td>\n",
       "      <td>0.0</td>\n",
       "      <td>61.219699</td>\n",
       "      <td>1</td>\n",
       "    </tr>\n",
       "    <tr>\n",
       "      <th>2062216</th>\n",
       "      <td>735.240045</td>\n",
       "      <td>2139</td>\n",
       "      <td>4</td>\n",
       "      <td>1</td>\n",
       "      <td>0</td>\n",
       "      <td>0</td>\n",
       "      <td>0</td>\n",
       "      <td>0</td>\n",
       "      <td>0</td>\n",
       "      <td>0</td>\n",
       "      <td>...</td>\n",
       "      <td>7.946942</td>\n",
       "      <td>541.753910</td>\n",
       "      <td>246.345750</td>\n",
       "      <td>1.0</td>\n",
       "      <td>0.0</td>\n",
       "      <td>0.0</td>\n",
       "      <td>1.0</td>\n",
       "      <td>0.0</td>\n",
       "      <td>76.534345</td>\n",
       "      <td>1</td>\n",
       "    </tr>\n",
       "  </tbody>\n",
       "</table>\n",
       "<p>1030817 rows × 27 columns</p>\n",
       "</div>"
      ],
      "text/plain": [
       "                amt  city_pop  trans_month  Weekday  category_food_dining   \n",
       "4        727.560000       737            3        1                     0  \\\n",
       "65       753.950000       737            3        0                     0   \n",
       "362      352.480000       397            2        1                     0   \n",
       "499      930.990000      1202            8        1                     0   \n",
       "792      866.280000      1909            7        1                     0   \n",
       "...             ...       ...          ...      ...                   ...   \n",
       "2062212  822.162922      1701            4        1                     0   \n",
       "2062213  867.200643      2566            4        1                     0   \n",
       "2062214  864.113532      2099            4        1                     0   \n",
       "2062215  883.236326      2566            4        1                     0   \n",
       "2062216  735.240045      2139            4        1                     0   \n",
       "\n",
       "         category_gas_transport  category_grocery_net  category_grocery_pos   \n",
       "4                             0                     0                     0  \\\n",
       "65                            0                     0                     0   \n",
       "362                           0                     0                     1   \n",
       "499                           0                     0                     0   \n",
       "792                           0                     0                     0   \n",
       "...                         ...                   ...                   ...   \n",
       "2062212                       0                     0                     0   \n",
       "2062213                       0                     0                     0   \n",
       "2062214                       0                     0                     0   \n",
       "2062215                       0                     0                     0   \n",
       "2062216                       0                     0                     0   \n",
       "\n",
       "         category_health_fitness  category_home  ...  Frequency_1DAY_WINDOW   \n",
       "4                              0              0  ...               6.000000  \\\n",
       "65                             0              0  ...               4.000000   \n",
       "362                            0              0  ...               5.000000   \n",
       "499                            0              0  ...               5.000000   \n",
       "792                            0              0  ...               4.000000   \n",
       "...                          ...            ...  ...                    ...   \n",
       "2062212                        0              0  ...               7.960907   \n",
       "2062213                        0              0  ...               7.000000   \n",
       "2062214                        0              0  ...               7.518016   \n",
       "2062215                        0              0  ...               7.000000   \n",
       "2062216                        0              0  ...               7.946942   \n",
       "\n",
       "         Monetary_1DAY_WINDOW  Monetary_7DAY_WINDOW   \n",
       "4                  513.525000            305.419412  \\\n",
       "65                 428.315000            178.918333   \n",
       "362                379.690000            229.224762   \n",
       "499                611.388000            324.377000   \n",
       "792                432.785000            142.274250   \n",
       "...                       ...                   ...   \n",
       "2062212            424.475889            157.448078   \n",
       "2062213            828.588578            394.262589   \n",
       "2062214            525.215419            232.678566   \n",
       "2062215            763.877967            368.596562   \n",
       "2062216            541.753910            246.345750   \n",
       "\n",
       "         merchant_NB_TX_1DAY_WINDOW  merchant_RISK_1DAY_WINDOW   \n",
       "4                               1.0                        0.0  \\\n",
       "65                              1.0                        0.0   \n",
       "362                             1.0                        0.0   \n",
       "499                             1.0                        0.0   \n",
       "792                             1.0                        0.0   \n",
       "...                             ...                        ...   \n",
       "2062212                         1.0                        0.0   \n",
       "2062213                         1.0                        0.0   \n",
       "2062214                         1.0                        0.0   \n",
       "2062215                         1.0                        0.0   \n",
       "2062216                         1.0                        0.0   \n",
       "\n",
       "         merchant_RISK_7DAY_WINDOW  category_NB_TX_1DAY_WINDOW   \n",
       "4                              0.0                         1.0  \\\n",
       "65                             0.0                         1.0   \n",
       "362                            0.0                         1.0   \n",
       "499                            0.0                         1.0   \n",
       "792                            0.0                         1.0   \n",
       "...                            ...                         ...   \n",
       "2062212                        0.0                         1.0   \n",
       "2062213                        0.0                         1.0   \n",
       "2062214                        0.0                         1.0   \n",
       "2062215                        0.0                         1.0   \n",
       "2062216                        0.0                         1.0   \n",
       "\n",
       "         category_RISK_1DAY_WINDOW    distance  is_fraud  \n",
       "4                              0.0   81.109957         1  \n",
       "65                             0.0  103.325912         1  \n",
       "362                            0.0   83.377704         1  \n",
       "499                            0.0   49.727068         1  \n",
       "792                            0.0   44.374615         1  \n",
       "...                            ...         ...       ...  \n",
       "2062212                        0.0   70.010940         1  \n",
       "2062213                        0.0   57.768957         1  \n",
       "2062214                        0.0   68.928900         1  \n",
       "2062215                        0.0   61.219699         1  \n",
       "2062216                        0.0   76.534345         1  \n",
       "\n",
       "[1030817 rows x 27 columns]"
      ]
     },
     "execution_count": 3,
     "metadata": {},
     "output_type": "execute_result"
    }
   ],
   "source": [
    "df[df['is_fraud']==1]"
   ]
  },
  {
   "cell_type": "code",
   "execution_count": 4,
   "id": "001084cd",
   "metadata": {},
   "outputs": [
    {
     "name": "stdout",
     "output_type": "stream",
     "text": [
      "<class 'pandas.core.frame.DataFrame'>\n",
      "RangeIndex: 2062217 entries, 0 to 2062216\n",
      "Data columns (total 27 columns):\n",
      " #   Column                      Dtype  \n",
      "---  ------                      -----  \n",
      " 0   amt                         float64\n",
      " 1   city_pop                    int64  \n",
      " 2   trans_month                 int64  \n",
      " 3   Weekday                     int64  \n",
      " 4   category_food_dining        int64  \n",
      " 5   category_gas_transport      int64  \n",
      " 6   category_grocery_net        int64  \n",
      " 7   category_grocery_pos        int64  \n",
      " 8   category_health_fitness     int64  \n",
      " 9   category_home               int64  \n",
      " 10  category_kids_pets          int64  \n",
      " 11  category_misc_net           int64  \n",
      " 12  category_misc_pos           int64  \n",
      " 13  category_personal_care      int64  \n",
      " 14  category_shopping_net       int64  \n",
      " 15  category_shopping_pos       int64  \n",
      " 16  category_travel             int64  \n",
      " 17  Frequency_1DAY_WINDOW       float64\n",
      " 18  Monetary_1DAY_WINDOW        float64\n",
      " 19  Monetary_7DAY_WINDOW        float64\n",
      " 20  merchant_NB_TX_1DAY_WINDOW  float64\n",
      " 21  merchant_RISK_1DAY_WINDOW   float64\n",
      " 22  merchant_RISK_7DAY_WINDOW   float64\n",
      " 23  category_NB_TX_1DAY_WINDOW  float64\n",
      " 24  category_RISK_1DAY_WINDOW   float64\n",
      " 25  distance                    float64\n",
      " 26  is_fraud                    int64  \n",
      "dtypes: float64(10), int64(17)\n",
      "memory usage: 424.8 MB\n"
     ]
    }
   ],
   "source": [
    "df.info()"
   ]
  },
  {
   "cell_type": "code",
   "execution_count": 5,
   "id": "b1a172d1",
   "metadata": {},
   "outputs": [
    {
     "data": {
      "text/plain": [
       "(2062217, 27)"
      ]
     },
     "execution_count": 5,
     "metadata": {},
     "output_type": "execute_result"
    }
   ],
   "source": [
    "df.shape"
   ]
  },
  {
   "cell_type": "markdown",
   "id": "956d194f",
   "metadata": {},
   "source": [
    "#### Defining Training Features"
   ]
  },
  {
   "cell_type": "code",
   "execution_count": 6,
   "id": "2fcf1d55",
   "metadata": {},
   "outputs": [],
   "source": [
    "data=df.iloc[:,:-1]\n",
    "# Converting into array for ARF\n",
    "data=np.array(data)"
   ]
  },
  {
   "cell_type": "code",
   "execution_count": 7,
   "id": "de93ea15",
   "metadata": {},
   "outputs": [
    {
     "data": {
      "text/plain": [
       "(2062217, 26)"
      ]
     },
     "execution_count": 7,
     "metadata": {},
     "output_type": "execute_result"
    }
   ],
   "source": [
    "data.shape"
   ]
  },
  {
   "cell_type": "code",
   "execution_count": 8,
   "id": "78de9bdf",
   "metadata": {},
   "outputs": [],
   "source": [
    "y=df.iloc[:,-1]\n",
    "y=np.array(y)"
   ]
  },
  {
   "cell_type": "code",
   "execution_count": 9,
   "id": "70a7a689",
   "metadata": {},
   "outputs": [
    {
     "data": {
      "text/plain": [
       "(2062217,)"
      ]
     },
     "execution_count": 9,
     "metadata": {},
     "output_type": "execute_result"
    }
   ],
   "source": [
    "y.shape"
   ]
  },
  {
   "cell_type": "markdown",
   "id": "27dc56c5",
   "metadata": {},
   "source": [
    "#### Creating Static Stream"
   ]
  },
  {
   "cell_type": "code",
   "execution_count": 10,
   "id": "903b7634",
   "metadata": {},
   "outputs": [],
   "source": [
    "# Create a data stream from the Pandas DataFrame\n",
    "stream = DataStream(data=data, y=y)"
   ]
  },
  {
   "cell_type": "code",
   "execution_count": 11,
   "id": "c3d1ea25",
   "metadata": {},
   "outputs": [
    {
     "data": {
      "text/plain": [
       "DataStream(allow_nan=False, cat_features=None,\n",
       "           data=                 0         1    2    3    4    5    6    7    8    9   ...   \n",
       "0        135.040000    6284.0  7.0  0.0  0.0  0.0  0.0  0.0  0.0  0.0  ...  \\\n",
       "1         68.910000    1453.0  2.0  1.0  0.0  0.0  0.0  0.0  0.0  0.0  ...   \n",
       "2         47.970000  224256.0  5.0  0.0  0.0  0.0  0.0  0.0  0.0  0.0  ...   \n",
       "3         18.660000    1304.0  4.0  0.0  0.0  0.0  0.0  0.0  0.0  0.0  ...   \n",
       "4        727.560000     737.0  3.0  1.0  0.0  0.0  0.0  0.0  0.0  0.0  ...   \n",
       "...             ...       ...  ...  ...  ...  ...  ...  ...  ...  ...  ...   \n",
       "2062212  822.162922    1701.0  4.0  1.0  0.0...\n",
       "2062214  0.0  7.518016  525.215419  232.678566  1.0  0.0  0.0  1.0  0.0   \n",
       "2062215  0.0  7.000000  763.877967  368.596562  1.0  0.0  0.0  1.0  0.0   \n",
       "2062216  0.0  7.946942  541.753910  246.345750  1.0  0.0  0.0  1.0  0.0   \n",
       "\n",
       "                 25  \n",
       "0          7.539311  \n",
       "1         93.086434  \n",
       "2        128.012419  \n",
       "3        134.944352  \n",
       "4         81.109957  \n",
       "...             ...  \n",
       "2062212   70.010940  \n",
       "2062213   57.768957  \n",
       "2062214   68.928900  \n",
       "2062215   61.219699  \n",
       "2062216   76.534345  \n",
       "\n",
       "[2062217 rows x 26 columns],\n",
       "           n_targets=1, name=None, target_idx=-1,\n",
       "           y=array([[0],\n",
       "       [0],\n",
       "       [0],\n",
       "       ...,\n",
       "       [1],\n",
       "       [1],\n",
       "       [1]]))"
      ]
     },
     "execution_count": 11,
     "metadata": {},
     "output_type": "execute_result"
    }
   ],
   "source": [
    "stream"
   ]
  },
  {
   "cell_type": "code",
   "execution_count": 12,
   "id": "9fc060cb",
   "metadata": {},
   "outputs": [
    {
     "data": {
      "text/plain": [
       "'1 target(s), 2 classes'"
      ]
     },
     "execution_count": 12,
     "metadata": {},
     "output_type": "execute_result"
    }
   ],
   "source": [
    "stream.get_data_info()"
   ]
  },
  {
   "cell_type": "markdown",
   "id": "9835d1e7",
   "metadata": {},
   "source": [
    "#### Defining Model "
   ]
  },
  {
   "cell_type": "markdown",
   "id": "77f3b060",
   "metadata": {},
   "source": [
    "* By continuously monitoring the data stream and adapting the model to concept drift, skmultiflow's Adaptive Random Forest provides an effective solution for handling evolving data. It allows the model to maintain its accuracy and generalization capabilities in dynamic environments. \n",
    "* It dynamically updates the model by incrementally adding or removing decision trees based on the concept drift detection mechanism."
   ]
  },
  {
   "cell_type": "code",
   "execution_count": 13,
   "id": "eda889d9",
   "metadata": {},
   "outputs": [],
   "source": [
    "from skmultiflow.meta import AdaptiveRandomForestClassifier\n",
    "arf = AdaptiveRandomForestClassifier(n_estimators=200)"
   ]
  },
  {
   "cell_type": "markdown",
   "id": "a3357e1a",
   "metadata": {},
   "source": [
    "##### Prequential Evaluator\n"
   ]
  },
  {
   "cell_type": "markdown",
   "id": "5f81e762",
   "metadata": {},
   "source": [
    "* The prequential evaluation is designed specifically for stream settings. This method consists of using each sample to test the model, which means to make a predictions, and then the same sample is used to train the model (partial fit). This way the model is always tested on samples that it hasn’t seen yet."
   ]
  },
  {
   "cell_type": "code",
   "execution_count": 14,
   "id": "a0f79853",
   "metadata": {},
   "outputs": [],
   "source": [
    "from skmultiflow.evaluation import EvaluatePrequential\n",
    "# Initialize the evaluator\n",
    "evaluator = EvaluatePrequential(pretrain_size=100000, max_samples=2062217,batch_size=512,metrics=['accuracy', 'kappa', 'precision', 'recall'])"
   ]
  },
  {
   "cell_type": "code",
   "execution_count": 15,
   "id": "0f4f66f3",
   "metadata": {},
   "outputs": [
    {
     "data": {
      "text/plain": [
       "EvaluatePrequential(batch_size=512, data_points_for_classification=False,\n",
       "                    max_samples=2062217, max_time=inf,\n",
       "                    metrics=['accuracy', 'kappa', 'precision', 'recall'],\n",
       "                    n_wait=200, output_file=None, pretrain_size=100000,\n",
       "                    restart_stream=True, show_plot=False)"
      ]
     },
     "execution_count": 15,
     "metadata": {},
     "output_type": "execute_result"
    }
   ],
   "source": [
    "evaluator"
   ]
  },
  {
   "cell_type": "markdown",
   "id": "e10c8076",
   "metadata": {},
   "source": [
    "#### Incremental Evaluation"
   ]
  },
  {
   "cell_type": "code",
   "execution_count": 16,
   "id": "8aef0939",
   "metadata": {},
   "outputs": [
    {
     "name": "stdout",
     "output_type": "stream",
     "text": [
      "Prequential Evaluation\n",
      "Evaluating 1 target(s).\n",
      "Pre-training on 100000 sample(s).\n",
      "Evaluating...\n",
      "\n",
      "Processed samples: 449696\n",
      "Mean performance:\n",
      "ARF - Accuracy     : 0.9972\n",
      "ARF - Kappa        : 0.6805\n",
      "ARF - Precision: 0.9762\n",
      "ARF - Recall: 0.5238\n"
     ]
    },
    {
     "data": {
      "text/plain": [
       "[AdaptiveRandomForestClassifier(binary_split=False, disable_weighted_vote=False,\n",
       "                                drift_detection_method=ADWIN(delta=0.001),\n",
       "                                grace_period=50, lambda_value=6,\n",
       "                                leaf_prediction='nba', max_byte_size=33554432,\n",
       "                                max_features=5, memory_estimate_period=2000000,\n",
       "                                n_estimators=200, nb_threshold=0,\n",
       "                                no_preprune=False, nominal_attributes=None,\n",
       "                                performance_metric='acc', random_state=None,\n",
       "                                remove_poor_atts=False, split_confidence=0.01,\n",
       "                                split_criterion='info_gain',\n",
       "                                stop_mem_management=False, tie_threshold=0.05,\n",
       "                                warning_detection_method=ADWIN(delta=0.01))]"
      ]
     },
     "execution_count": 16,
     "metadata": {},
     "output_type": "execute_result"
    }
   ],
   "source": [
    "# Run the incremental evaluation\n",
    "evaluator.evaluate(stream=stream, model=arf, model_names=['ARF'])"
   ]
  },
  {
   "cell_type": "markdown",
   "id": "093be715",
   "metadata": {},
   "source": [
    "### Unseen Data Prediction"
   ]
  },
  {
   "cell_type": "code",
   "execution_count": 17,
   "id": "d7142200",
   "metadata": {},
   "outputs": [],
   "source": [
    "x_test=data[500000]"
   ]
  },
  {
   "cell_type": "code",
   "execution_count": 18,
   "id": "0c2c6a96",
   "metadata": {},
   "outputs": [
    {
     "data": {
      "text/plain": [
       "array([[3.31990000e+02, 3.87600000e+03, 4.00000000e+00, 1.00000000e+00,\n",
       "        0.00000000e+00, 0.00000000e+00, 0.00000000e+00, 0.00000000e+00,\n",
       "        0.00000000e+00, 0.00000000e+00, 0.00000000e+00, 0.00000000e+00,\n",
       "        1.00000000e+00, 0.00000000e+00, 0.00000000e+00, 0.00000000e+00,\n",
       "        0.00000000e+00, 2.00000000e+00, 1.77070000e+02, 5.98358333e+01,\n",
       "        1.00000000e+00, 0.00000000e+00, 0.00000000e+00, 1.00000000e+00,\n",
       "        0.00000000e+00, 6.23178649e+01]])"
      ]
     },
     "execution_count": 18,
     "metadata": {},
     "output_type": "execute_result"
    }
   ],
   "source": [
    "single_row = x_test.reshape(1, -1)\n",
    "single_row\n"
   ]
  },
  {
   "cell_type": "code",
   "execution_count": 19,
   "id": "3dc9809c",
   "metadata": {},
   "outputs": [],
   "source": [
    "prediction = evaluator.predict(single_row)"
   ]
  },
  {
   "cell_type": "code",
   "execution_count": 20,
   "id": "f406ccd6",
   "metadata": {},
   "outputs": [
    {
     "data": {
      "text/plain": [
       "[array([0])]"
      ]
     },
     "execution_count": 20,
     "metadata": {},
     "output_type": "execute_result"
    }
   ],
   "source": [
    "prediction"
   ]
  },
  {
   "cell_type": "code",
   "execution_count": 21,
   "id": "acf1b266",
   "metadata": {},
   "outputs": [
    {
     "data": {
      "text/plain": [
       "0"
      ]
     },
     "execution_count": 21,
     "metadata": {},
     "output_type": "execute_result"
    }
   ],
   "source": [
    "y[500000]"
   ]
  },
  {
   "cell_type": "markdown",
   "id": "d8acd50d",
   "metadata": {},
   "source": [
    "###### Model Predicts correctly on Unseen Data"
   ]
  },
  {
   "cell_type": "code",
   "execution_count": 22,
   "id": "6e496dd1",
   "metadata": {},
   "outputs": [],
   "source": [
    "x_2=data[565000]"
   ]
  },
  {
   "cell_type": "code",
   "execution_count": 23,
   "id": "c1bcb526",
   "metadata": {},
   "outputs": [
    {
     "data": {
      "text/plain": [
       "array([[6.3600000e+00, 7.6383000e+04, 3.0000000e+00, 1.0000000e+00,\n",
       "        0.0000000e+00, 0.0000000e+00, 0.0000000e+00, 0.0000000e+00,\n",
       "        0.0000000e+00, 0.0000000e+00, 0.0000000e+00, 0.0000000e+00,\n",
       "        0.0000000e+00, 0.0000000e+00, 1.0000000e+00, 0.0000000e+00,\n",
       "        0.0000000e+00, 5.0000000e+00, 2.1240000e+01, 2.9403000e+01,\n",
       "        1.0000000e+00, 0.0000000e+00, 0.0000000e+00, 1.0000000e+00,\n",
       "        0.0000000e+00, 7.1921895e+01]])"
      ]
     },
     "execution_count": 23,
     "metadata": {},
     "output_type": "execute_result"
    }
   ],
   "source": [
    "x_2 = x_2.reshape(1, -1)\n",
    "x_2"
   ]
  },
  {
   "cell_type": "code",
   "execution_count": 24,
   "id": "9fc661bf",
   "metadata": {},
   "outputs": [],
   "source": [
    "pred2 = evaluator.predict(x_2)"
   ]
  },
  {
   "cell_type": "code",
   "execution_count": 25,
   "id": "dd6b83ff",
   "metadata": {},
   "outputs": [
    {
     "data": {
      "text/plain": [
       "[array([0])]"
      ]
     },
     "execution_count": 25,
     "metadata": {},
     "output_type": "execute_result"
    }
   ],
   "source": [
    "pred2"
   ]
  },
  {
   "cell_type": "code",
   "execution_count": 26,
   "id": "1469fb8a",
   "metadata": {},
   "outputs": [
    {
     "data": {
      "text/plain": [
       "0"
      ]
     },
     "execution_count": 26,
     "metadata": {},
     "output_type": "execute_result"
    }
   ],
   "source": [
    "y[565000]"
   ]
  },
  {
   "cell_type": "code",
   "execution_count": 27,
   "id": "fcbf16c4",
   "metadata": {},
   "outputs": [],
   "source": [
    "x_3=data[2062216]"
   ]
  },
  {
   "cell_type": "code",
   "execution_count": 28,
   "id": "52535116",
   "metadata": {},
   "outputs": [
    {
     "data": {
      "text/plain": [
       "array([[7.35240045e+02, 2.13900000e+03, 4.00000000e+00, 1.00000000e+00,\n",
       "        0.00000000e+00, 0.00000000e+00, 0.00000000e+00, 0.00000000e+00,\n",
       "        0.00000000e+00, 0.00000000e+00, 0.00000000e+00, 0.00000000e+00,\n",
       "        0.00000000e+00, 0.00000000e+00, 0.00000000e+00, 0.00000000e+00,\n",
       "        0.00000000e+00, 7.94694245e+00, 5.41753910e+02, 2.46345750e+02,\n",
       "        1.00000000e+00, 0.00000000e+00, 0.00000000e+00, 1.00000000e+00,\n",
       "        0.00000000e+00, 7.65343453e+01]])"
      ]
     },
     "execution_count": 28,
     "metadata": {},
     "output_type": "execute_result"
    }
   ],
   "source": [
    "x_3 = x_3.reshape(1, -1)\n",
    "x_3"
   ]
  },
  {
   "cell_type": "code",
   "execution_count": 29,
   "id": "b9cbd506",
   "metadata": {},
   "outputs": [
    {
     "data": {
      "text/plain": [
       "[array([1])]"
      ]
     },
     "execution_count": 29,
     "metadata": {},
     "output_type": "execute_result"
    }
   ],
   "source": [
    "evaluator.predict(x_3)"
   ]
  },
  {
   "cell_type": "code",
   "execution_count": 30,
   "id": "00de1c21",
   "metadata": {},
   "outputs": [
    {
     "data": {
      "text/plain": [
       "1"
      ]
     },
     "execution_count": 30,
     "metadata": {},
     "output_type": "execute_result"
    }
   ],
   "source": [
    "y[2062216]"
   ]
  },
  {
   "cell_type": "markdown",
   "id": "a819993d",
   "metadata": {},
   "source": [
    "###### Prediction on unseen rows"
   ]
  },
  {
   "cell_type": "code",
   "execution_count": 31,
   "id": "8d29c5e9",
   "metadata": {},
   "outputs": [],
   "source": [
    "test_rows=last_rows = data[-10:]"
   ]
  },
  {
   "cell_type": "code",
   "execution_count": 32,
   "id": "41431b2d",
   "metadata": {},
   "outputs": [
    {
     "data": {
      "text/plain": [
       "(10, 26)"
      ]
     },
     "execution_count": 32,
     "metadata": {},
     "output_type": "execute_result"
    }
   ],
   "source": [
    "test_rows.shape"
   ]
  },
  {
   "cell_type": "code",
   "execution_count": 33,
   "id": "f0dc5818",
   "metadata": {},
   "outputs": [],
   "source": [
    "pred_test=evaluator.predict(test_rows)"
   ]
  },
  {
   "cell_type": "code",
   "execution_count": 34,
   "id": "ce82b0c2",
   "metadata": {},
   "outputs": [
    {
     "data": {
      "text/plain": [
       "[array([1, 1, 1, 1, 1, 1, 1, 1, 1, 1])]"
      ]
     },
     "execution_count": 34,
     "metadata": {},
     "output_type": "execute_result"
    }
   ],
   "source": [
    "pred_test"
   ]
  },
  {
   "cell_type": "code",
   "execution_count": 35,
   "id": "08898be5",
   "metadata": {},
   "outputs": [
    {
     "data": {
      "text/plain": [
       "array([1, 1, 1, 1, 1, 1, 1, 1, 1, 1])"
      ]
     },
     "execution_count": 35,
     "metadata": {},
     "output_type": "execute_result"
    }
   ],
   "source": [
    "y[-10:]"
   ]
  },
  {
   "cell_type": "markdown",
   "id": "6bdee148",
   "metadata": {},
   "source": [
    "###### Saving for Real-time Predictions"
   ]
  },
  {
   "cell_type": "code",
   "execution_count": 41,
   "id": "62dd188d",
   "metadata": {},
   "outputs": [],
   "source": [
    "import pickle\n",
    "\n",
    "with open('ARF_evaluator.pkl', 'wb') as file:\n",
    "    pickle.dump(evaluator, file)"
   ]
  }
 ],
 "metadata": {
  "kernelspec": {
   "display_name": "Python 3 (ipykernel)",
   "language": "python",
   "name": "python3"
  },
  "language_info": {
   "codemirror_mode": {
    "name": "ipython",
    "version": 3
   },
   "file_extension": ".py",
   "mimetype": "text/x-python",
   "name": "python",
   "nbconvert_exporter": "python",
   "pygments_lexer": "ipython3",
   "version": "3.9.6"
  }
 },
 "nbformat": 4,
 "nbformat_minor": 5
}
