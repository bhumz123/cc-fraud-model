{
 "cells": [
  {
   "cell_type": "code",
   "execution_count": 1,
   "id": "a9aa7c51",
   "metadata": {},
   "outputs": [],
   "source": [
    "import pandas as pd\n",
    "import numpy as np"
   ]
  },
  {
   "cell_type": "markdown",
   "id": "47f3eb22",
   "metadata": {},
   "source": [
    "#### Importing the dataset"
   ]
  },
  {
   "cell_type": "code",
   "execution_count": 3,
   "id": "0f2f7615",
   "metadata": {},
   "outputs": [],
   "source": [
    "df=pd.read_csv('Selected_Features.csv')"
   ]
  },
  {
   "cell_type": "code",
   "execution_count": 4,
   "id": "a07dff17",
   "metadata": {},
   "outputs": [
    {
     "data": {
      "text/html": [
       "<div>\n",
       "<style scoped>\n",
       "    .dataframe tbody tr th:only-of-type {\n",
       "        vertical-align: middle;\n",
       "    }\n",
       "\n",
       "    .dataframe tbody tr th {\n",
       "        vertical-align: top;\n",
       "    }\n",
       "\n",
       "    .dataframe thead th {\n",
       "        text-align: right;\n",
       "    }\n",
       "</style>\n",
       "<table border=\"1\" class=\"dataframe\">\n",
       "  <thead>\n",
       "    <tr style=\"text-align: right;\">\n",
       "      <th></th>\n",
       "      <th>amt</th>\n",
       "      <th>city_pop</th>\n",
       "      <th>trans_month</th>\n",
       "      <th>Weekday</th>\n",
       "      <th>category_food_dining</th>\n",
       "      <th>category_gas_transport</th>\n",
       "      <th>category_grocery_net</th>\n",
       "      <th>category_grocery_pos</th>\n",
       "      <th>category_health_fitness</th>\n",
       "      <th>category_home</th>\n",
       "      <th>...</th>\n",
       "      <th>Frequency_1DAY_WINDOW</th>\n",
       "      <th>Monetary_1DAY_WINDOW</th>\n",
       "      <th>Monetary_7DAY_WINDOW</th>\n",
       "      <th>merchant_NB_TX_1DAY_WINDOW</th>\n",
       "      <th>merchant_RISK_1DAY_WINDOW</th>\n",
       "      <th>merchant_RISK_7DAY_WINDOW</th>\n",
       "      <th>category_NB_TX_1DAY_WINDOW</th>\n",
       "      <th>category_RISK_1DAY_WINDOW</th>\n",
       "      <th>distance</th>\n",
       "      <th>is_fraud</th>\n",
       "    </tr>\n",
       "  </thead>\n",
       "  <tbody>\n",
       "    <tr>\n",
       "      <th>0</th>\n",
       "      <td>135.04</td>\n",
       "      <td>6284</td>\n",
       "      <td>7</td>\n",
       "      <td>0</td>\n",
       "      <td>0</td>\n",
       "      <td>0</td>\n",
       "      <td>0</td>\n",
       "      <td>0</td>\n",
       "      <td>0</td>\n",
       "      <td>0</td>\n",
       "      <td>...</td>\n",
       "      <td>3.0</td>\n",
       "      <td>46.383333</td>\n",
       "      <td>55.798261</td>\n",
       "      <td>1.0</td>\n",
       "      <td>0.0</td>\n",
       "      <td>0.0</td>\n",
       "      <td>1.0</td>\n",
       "      <td>0.0</td>\n",
       "      <td>7.539311</td>\n",
       "      <td>0</td>\n",
       "    </tr>\n",
       "    <tr>\n",
       "      <th>1</th>\n",
       "      <td>68.91</td>\n",
       "      <td>1453</td>\n",
       "      <td>2</td>\n",
       "      <td>1</td>\n",
       "      <td>0</td>\n",
       "      <td>0</td>\n",
       "      <td>0</td>\n",
       "      <td>0</td>\n",
       "      <td>0</td>\n",
       "      <td>0</td>\n",
       "      <td>...</td>\n",
       "      <td>5.0</td>\n",
       "      <td>104.600000</td>\n",
       "      <td>160.646471</td>\n",
       "      <td>1.0</td>\n",
       "      <td>0.0</td>\n",
       "      <td>0.0</td>\n",
       "      <td>1.0</td>\n",
       "      <td>0.0</td>\n",
       "      <td>93.086434</td>\n",
       "      <td>0</td>\n",
       "    </tr>\n",
       "    <tr>\n",
       "      <th>2</th>\n",
       "      <td>47.97</td>\n",
       "      <td>224256</td>\n",
       "      <td>5</td>\n",
       "      <td>0</td>\n",
       "      <td>0</td>\n",
       "      <td>0</td>\n",
       "      <td>0</td>\n",
       "      <td>0</td>\n",
       "      <td>0</td>\n",
       "      <td>0</td>\n",
       "      <td>...</td>\n",
       "      <td>6.0</td>\n",
       "      <td>127.248333</td>\n",
       "      <td>78.534688</td>\n",
       "      <td>1.0</td>\n",
       "      <td>0.0</td>\n",
       "      <td>0.0</td>\n",
       "      <td>1.0</td>\n",
       "      <td>0.0</td>\n",
       "      <td>128.012419</td>\n",
       "      <td>0</td>\n",
       "    </tr>\n",
       "    <tr>\n",
       "      <th>3</th>\n",
       "      <td>18.66</td>\n",
       "      <td>1304</td>\n",
       "      <td>4</td>\n",
       "      <td>0</td>\n",
       "      <td>0</td>\n",
       "      <td>0</td>\n",
       "      <td>0</td>\n",
       "      <td>0</td>\n",
       "      <td>0</td>\n",
       "      <td>0</td>\n",
       "      <td>...</td>\n",
       "      <td>2.0</td>\n",
       "      <td>11.215000</td>\n",
       "      <td>29.892000</td>\n",
       "      <td>1.0</td>\n",
       "      <td>0.0</td>\n",
       "      <td>0.0</td>\n",
       "      <td>1.0</td>\n",
       "      <td>0.0</td>\n",
       "      <td>134.944352</td>\n",
       "      <td>0</td>\n",
       "    </tr>\n",
       "    <tr>\n",
       "      <th>4</th>\n",
       "      <td>727.56</td>\n",
       "      <td>737</td>\n",
       "      <td>3</td>\n",
       "      <td>1</td>\n",
       "      <td>0</td>\n",
       "      <td>0</td>\n",
       "      <td>0</td>\n",
       "      <td>0</td>\n",
       "      <td>0</td>\n",
       "      <td>0</td>\n",
       "      <td>...</td>\n",
       "      <td>6.0</td>\n",
       "      <td>513.525000</td>\n",
       "      <td>305.419412</td>\n",
       "      <td>1.0</td>\n",
       "      <td>0.0</td>\n",
       "      <td>0.0</td>\n",
       "      <td>1.0</td>\n",
       "      <td>0.0</td>\n",
       "      <td>81.109957</td>\n",
       "      <td>1</td>\n",
       "    </tr>\n",
       "  </tbody>\n",
       "</table>\n",
       "<p>5 rows × 27 columns</p>\n",
       "</div>"
      ],
      "text/plain": [
       "      amt  city_pop  trans_month  Weekday  category_food_dining   \n",
       "0  135.04      6284            7        0                     0  \\\n",
       "1   68.91      1453            2        1                     0   \n",
       "2   47.97    224256            5        0                     0   \n",
       "3   18.66      1304            4        0                     0   \n",
       "4  727.56       737            3        1                     0   \n",
       "\n",
       "   category_gas_transport  category_grocery_net  category_grocery_pos   \n",
       "0                       0                     0                     0  \\\n",
       "1                       0                     0                     0   \n",
       "2                       0                     0                     0   \n",
       "3                       0                     0                     0   \n",
       "4                       0                     0                     0   \n",
       "\n",
       "   category_health_fitness  category_home  ...  Frequency_1DAY_WINDOW   \n",
       "0                        0              0  ...                    3.0  \\\n",
       "1                        0              0  ...                    5.0   \n",
       "2                        0              0  ...                    6.0   \n",
       "3                        0              0  ...                    2.0   \n",
       "4                        0              0  ...                    6.0   \n",
       "\n",
       "   Monetary_1DAY_WINDOW  Monetary_7DAY_WINDOW  merchant_NB_TX_1DAY_WINDOW   \n",
       "0             46.383333             55.798261                         1.0  \\\n",
       "1            104.600000            160.646471                         1.0   \n",
       "2            127.248333             78.534688                         1.0   \n",
       "3             11.215000             29.892000                         1.0   \n",
       "4            513.525000            305.419412                         1.0   \n",
       "\n",
       "   merchant_RISK_1DAY_WINDOW  merchant_RISK_7DAY_WINDOW   \n",
       "0                        0.0                        0.0  \\\n",
       "1                        0.0                        0.0   \n",
       "2                        0.0                        0.0   \n",
       "3                        0.0                        0.0   \n",
       "4                        0.0                        0.0   \n",
       "\n",
       "   category_NB_TX_1DAY_WINDOW  category_RISK_1DAY_WINDOW    distance  is_fraud  \n",
       "0                         1.0                        0.0    7.539311         0  \n",
       "1                         1.0                        0.0   93.086434         0  \n",
       "2                         1.0                        0.0  128.012419         0  \n",
       "3                         1.0                        0.0  134.944352         0  \n",
       "4                         1.0                        0.0   81.109957         1  \n",
       "\n",
       "[5 rows x 27 columns]"
      ]
     },
     "execution_count": 4,
     "metadata": {},
     "output_type": "execute_result"
    }
   ],
   "source": [
    "df.head()"
   ]
  },
  {
   "cell_type": "code",
   "execution_count": 5,
   "id": "ec44a118",
   "metadata": {},
   "outputs": [
    {
     "data": {
      "text/plain": [
       "is_fraud\n",
       "0    1031400\n",
       "1    1030817\n",
       "Name: count, dtype: int64"
      ]
     },
     "execution_count": 5,
     "metadata": {},
     "output_type": "execute_result"
    }
   ],
   "source": [
    "df['is_fraud'].value_counts()"
   ]
  },
  {
   "cell_type": "code",
   "execution_count": 6,
   "id": "860b0cf1",
   "metadata": {},
   "outputs": [
    {
     "data": {
      "text/plain": [
       "(2062217, 27)"
      ]
     },
     "execution_count": 6,
     "metadata": {},
     "output_type": "execute_result"
    }
   ],
   "source": [
    "df.shape"
   ]
  },
  {
   "cell_type": "code",
   "execution_count": 7,
   "id": "4a85936f",
   "metadata": {},
   "outputs": [
    {
     "name": "stdout",
     "output_type": "stream",
     "text": [
      "<class 'pandas.core.frame.DataFrame'>\n",
      "RangeIndex: 2062217 entries, 0 to 2062216\n",
      "Data columns (total 27 columns):\n",
      " #   Column                      Dtype  \n",
      "---  ------                      -----  \n",
      " 0   amt                         float64\n",
      " 1   city_pop                    int64  \n",
      " 2   trans_month                 int64  \n",
      " 3   Weekday                     int64  \n",
      " 4   category_food_dining        int64  \n",
      " 5   category_gas_transport      int64  \n",
      " 6   category_grocery_net        int64  \n",
      " 7   category_grocery_pos        int64  \n",
      " 8   category_health_fitness     int64  \n",
      " 9   category_home               int64  \n",
      " 10  category_kids_pets          int64  \n",
      " 11  category_misc_net           int64  \n",
      " 12  category_misc_pos           int64  \n",
      " 13  category_personal_care      int64  \n",
      " 14  category_shopping_net       int64  \n",
      " 15  category_shopping_pos       int64  \n",
      " 16  category_travel             int64  \n",
      " 17  Frequency_1DAY_WINDOW       float64\n",
      " 18  Monetary_1DAY_WINDOW        float64\n",
      " 19  Monetary_7DAY_WINDOW        float64\n",
      " 20  merchant_NB_TX_1DAY_WINDOW  float64\n",
      " 21  merchant_RISK_1DAY_WINDOW   float64\n",
      " 22  merchant_RISK_7DAY_WINDOW   float64\n",
      " 23  category_NB_TX_1DAY_WINDOW  float64\n",
      " 24  category_RISK_1DAY_WINDOW   float64\n",
      " 25  distance                    float64\n",
      " 26  is_fraud                    int64  \n",
      "dtypes: float64(10), int64(17)\n",
      "memory usage: 424.8 MB\n"
     ]
    }
   ],
   "source": [
    "df.info()"
   ]
  },
  {
   "cell_type": "markdown",
   "id": "aff00f51",
   "metadata": {},
   "source": [
    "#### Dependent & Independent Variable"
   ]
  },
  {
   "cell_type": "code",
   "execution_count": 8,
   "id": "87833677",
   "metadata": {},
   "outputs": [],
   "source": [
    "x=df.iloc[:,:-1]\n",
    "y=df.iloc[:,-1:]"
   ]
  },
  {
   "cell_type": "markdown",
   "id": "928cff45",
   "metadata": {},
   "source": [
    "#### Splitting Data"
   ]
  },
  {
   "cell_type": "code",
   "execution_count": 9,
   "id": "56b8b3f3",
   "metadata": {},
   "outputs": [],
   "source": [
    "from sklearn.model_selection import train_test_split\n",
    "x_train, x_test, y_train, y_test = train_test_split(x, y, test_size=0.2, random_state=42)"
   ]
  },
  {
   "cell_type": "markdown",
   "id": "d5282744",
   "metadata": {},
   "source": [
    "#### Converting Dependent variable in format suitable for LSTM"
   ]
  },
  {
   "cell_type": "code",
   "execution_count": 10,
   "id": "aac7fcff",
   "metadata": {},
   "outputs": [
    {
     "data": {
      "text/plain": [
       "(1649773, 26)"
      ]
     },
     "execution_count": 10,
     "metadata": {},
     "output_type": "execute_result"
    }
   ],
   "source": [
    "features = np.array(x_train)\n",
    "features.shape"
   ]
  },
  {
   "cell_type": "code",
   "execution_count": 11,
   "id": "44d28164",
   "metadata": {},
   "outputs": [
    {
     "data": {
      "text/plain": [
       "(1649773, 1, 26)"
      ]
     },
     "execution_count": 11,
     "metadata": {},
     "output_type": "execute_result"
    }
   ],
   "source": [
    "features = features.reshape(features.shape[0],1, features.shape[1])\n",
    "features.shape"
   ]
  },
  {
   "cell_type": "code",
   "execution_count": 12,
   "id": "34d6acfd",
   "metadata": {},
   "outputs": [
    {
     "data": {
      "text/plain": [
       "array([[[1.10300000e+01, 1.45000000e+02, 4.00000000e+00, ...,\n",
       "         1.00000000e+00, 0.00000000e+00, 6.91295594e+01]],\n",
       "\n",
       "       [[3.46200000e+01, 6.12000000e+03, 5.00000000e+00, ...,\n",
       "         1.00000000e+00, 0.00000000e+00, 1.03908372e+02]],\n",
       "\n",
       "       [[1.06450000e+02, 1.53600000e+03, 6.00000000e+00, ...,\n",
       "         1.00000000e+00, 0.00000000e+00, 3.86624896e+01]],\n",
       "\n",
       "       ...,\n",
       "\n",
       "       [[5.86000000e+01, 5.21600000e+03, 1.10000000e+01, ...,\n",
       "         1.00000000e+00, 0.00000000e+00, 8.69745746e+01]],\n",
       "\n",
       "       [[1.39200000e+01, 5.97050000e+04, 1.20000000e+01, ...,\n",
       "         1.00000000e+00, 0.00000000e+00, 1.04640840e+02]],\n",
       "\n",
       "       [[2.49000000e+00, 1.84080000e+04, 1.00000000e+01, ...,\n",
       "         1.00000000e+00, 0.00000000e+00, 6.51432462e+01]]])"
      ]
     },
     "execution_count": 12,
     "metadata": {},
     "output_type": "execute_result"
    }
   ],
   "source": [
    "features"
   ]
  },
  {
   "cell_type": "code",
   "execution_count": 13,
   "id": "b49dbc7d",
   "metadata": {},
   "outputs": [
    {
     "data": {
      "text/plain": [
       "(1649773, 1)"
      ]
     },
     "execution_count": 13,
     "metadata": {},
     "output_type": "execute_result"
    }
   ],
   "source": [
    "target = np.array(y_train)\n",
    "target.shape"
   ]
  },
  {
   "cell_type": "code",
   "execution_count": 45,
   "id": "ff0a6029",
   "metadata": {},
   "outputs": [
    {
     "data": {
      "text/plain": [
       "array([[0],\n",
       "       [0],\n",
       "       [0],\n",
       "       ...,\n",
       "       [0],\n",
       "       [0],\n",
       "       [0]])"
      ]
     },
     "execution_count": 45,
     "metadata": {},
     "output_type": "execute_result"
    }
   ],
   "source": [
    "target"
   ]
  },
  {
   "cell_type": "markdown",
   "id": "ccb950e4",
   "metadata": {},
   "source": [
    "#### LSTM MODEL ARCHITECTURE"
   ]
  },
  {
   "cell_type": "markdown",
   "id": "b5364bc5",
   "metadata": {},
   "source": [
    "An LSTM (Long Short-Term Memory) is an advanced type of recurrent neural network architecture that is designed to capture and remember long-term dependencies in sequential data. It consists of three main components:\n",
    "cell state, input gate, forget gate"
   ]
  },
  {
   "cell_type": "code",
   "execution_count": 15,
   "id": "f48035bb",
   "metadata": {},
   "outputs": [
    {
     "name": "stderr",
     "output_type": "stream",
     "text": [
      "2023-06-18 19:54:07.862972: I tensorflow/core/platform/cpu_feature_guard.cc:182] This TensorFlow binary is optimized to use available CPU instructions in performance-critical operations.\n",
      "To enable the following instructions: AVX2 FMA, in other operations, rebuild TensorFlow with the appropriate compiler flags.\n"
     ]
    }
   ],
   "source": [
    "import tensorflow as tf\n",
    "import random"
   ]
  },
  {
   "cell_type": "code",
   "execution_count": 16,
   "id": "b4508bcb",
   "metadata": {},
   "outputs": [],
   "source": [
    "norm = tf.keras.layers.Normalization(axis= -1,input_shape=(1, features.shape[2]))\n",
    "norm.adapt(features)"
   ]
  },
  {
   "cell_type": "code",
   "execution_count": 17,
   "id": "51e8a9f7",
   "metadata": {},
   "outputs": [
    {
     "name": "stderr",
     "output_type": "stream",
     "text": [
      "2023-06-18 19:54:50.882773: I tensorflow/core/common_runtime/executor.cc:1197] [/device:CPU:0] (DEBUG INFO) Executor start aborting (this does not indicate an error and you can ignore this message): INVALID_ARGUMENT: You must feed a value for placeholder tensor 'gradients/split_2_grad/concat/split_2/split_dim' with dtype int32\n",
      "\t [[{{node gradients/split_2_grad/concat/split_2/split_dim}}]]\n",
      "2023-06-18 19:54:50.884650: I tensorflow/core/common_runtime/executor.cc:1197] [/device:CPU:0] (DEBUG INFO) Executor start aborting (this does not indicate an error and you can ignore this message): INVALID_ARGUMENT: You must feed a value for placeholder tensor 'gradients/split_grad/concat/split/split_dim' with dtype int32\n",
      "\t [[{{node gradients/split_grad/concat/split/split_dim}}]]\n",
      "2023-06-18 19:54:50.886414: I tensorflow/core/common_runtime/executor.cc:1197] [/device:CPU:0] (DEBUG INFO) Executor start aborting (this does not indicate an error and you can ignore this message): INVALID_ARGUMENT: You must feed a value for placeholder tensor 'gradients/split_1_grad/concat/split_1/split_dim' with dtype int32\n",
      "\t [[{{node gradients/split_1_grad/concat/split_1/split_dim}}]]\n",
      "2023-06-18 19:54:51.141989: I tensorflow/core/common_runtime/executor.cc:1197] [/device:CPU:0] (DEBUG INFO) Executor start aborting (this does not indicate an error and you can ignore this message): INVALID_ARGUMENT: You must feed a value for placeholder tensor 'gradients/split_2_grad/concat/split_2/split_dim' with dtype int32\n",
      "\t [[{{node gradients/split_2_grad/concat/split_2/split_dim}}]]\n",
      "2023-06-18 19:54:51.143669: I tensorflow/core/common_runtime/executor.cc:1197] [/device:CPU:0] (DEBUG INFO) Executor start aborting (this does not indicate an error and you can ignore this message): INVALID_ARGUMENT: You must feed a value for placeholder tensor 'gradients/split_grad/concat/split/split_dim' with dtype int32\n",
      "\t [[{{node gradients/split_grad/concat/split/split_dim}}]]\n",
      "2023-06-18 19:54:51.145340: I tensorflow/core/common_runtime/executor.cc:1197] [/device:CPU:0] (DEBUG INFO) Executor start aborting (this does not indicate an error and you can ignore this message): INVALID_ARGUMENT: You must feed a value for placeholder tensor 'gradients/split_1_grad/concat/split_1/split_dim' with dtype int32\n",
      "\t [[{{node gradients/split_1_grad/concat/split_1/split_dim}}]]\n"
     ]
    }
   ],
   "source": [
    "model = tf.keras.Sequential([\n",
    "    norm,\n",
    "    tf.keras.layers.LSTM(128, return_sequences = True),\n",
    "    tf.keras.layers.LSTM(128, return_sequences = True),\n",
    "    tf.keras.layers.GlobalAveragePooling1D(),\n",
    "    tf.keras.layers.Dropout(0.5),\n",
    "    tf.keras.layers.Dense(1,activation=\"sigmoid\")\n",
    "])"
   ]
  },
  {
   "cell_type": "code",
   "execution_count": 18,
   "id": "ed5231d0",
   "metadata": {},
   "outputs": [],
   "source": [
    "model.compile(optimizer=tf.optimizers.Adam(learning_rate=0.001), loss= \"mae\")"
   ]
  },
  {
   "cell_type": "code",
   "execution_count": 19,
   "id": "c9d97734",
   "metadata": {},
   "outputs": [
    {
     "name": "stdout",
     "output_type": "stream",
     "text": [
      "Model: \"sequential\"\n",
      "_________________________________________________________________\n",
      " Layer (type)                Output Shape              Param #   \n",
      "=================================================================\n",
      " normalization (Normalizatio  (None, 1, 26)            53        \n",
      " n)                                                              \n",
      "                                                                 \n",
      " lstm (LSTM)                 (None, 1, 128)            79360     \n",
      "                                                                 \n",
      " lstm_1 (LSTM)               (None, 1, 128)            131584    \n",
      "                                                                 \n",
      " global_average_pooling1d (G  (None, 128)              0         \n",
      " lobalAveragePooling1D)                                          \n",
      "                                                                 \n",
      " dropout (Dropout)           (None, 128)               0         \n",
      "                                                                 \n",
      " dense (Dense)               (None, 1)                 129       \n",
      "                                                                 \n",
      "=================================================================\n",
      "Total params: 211,126\n",
      "Trainable params: 211,073\n",
      "Non-trainable params: 53\n",
      "_________________________________________________________________\n"
     ]
    }
   ],
   "source": [
    "model.summary()"
   ]
  },
  {
   "cell_type": "markdown",
   "id": "507c3b7e",
   "metadata": {},
   "source": [
    "##### The tf.keras.Sequential function is used to create a sequential model, which is a linear stack of layers. The model architecture is defined as follows:\n",
    "\n",
    " * Normalization Layer: The normalization layer  is added as the first layer in the model. It normalizes the input data before passing it to the subsequent layers.\n",
    "\n",
    " * LSTM Layers:  Two LSTM (Long Short-Term Memory) layers are added to the model. These LSTM layers are designed to capture temporal dependencies and patterns in sequential data.\n",
    "\n",
    "* GlobalAveragePooling1D Layer: A tf.keras.layers.GlobalAveragePooling1D layer is added after the LSTM layers. It performs average pooling across the time dimension of the input sequences, resulting in a fixed-length output representation.\n",
    "\n",
    " * Dropout Layer: A tf.keras.layers.Dropout layer with a dropout rate of 0.5 is inserted after the global average pooling layer. Dropout is a regularization technique that randomly drops out a fraction of the input units during training, helping to prevent overfitting.\n",
    "\n",
    " * Dense Layer: The final layer is a tf.keras.layers.Dense layer with a single unit and sigmoid activation. This layer produces a single prediction output, which is suitable for binary classification tasks.\n",
    "\n",
    "Model Compilation: The model.compile function is used to configure the training process of the model. The optimizer is set to tf.optimizers.Adam with a learning rate of 0.001."
   ]
  },
  {
   "cell_type": "markdown",
   "id": "7ea77e61",
   "metadata": {},
   "source": [
    "#### Fitting the Model"
   ]
  },
  {
   "cell_type": "code",
   "execution_count": 20,
   "id": "eea554ff",
   "metadata": {},
   "outputs": [
    {
     "name": "stdout",
     "output_type": "stream",
     "text": [
      "Epoch 1/30\n"
     ]
    },
    {
     "name": "stderr",
     "output_type": "stream",
     "text": [
      "2023-06-18 19:54:51.725510: I tensorflow/core/common_runtime/executor.cc:1197] [/device:CPU:0] (DEBUG INFO) Executor start aborting (this does not indicate an error and you can ignore this message): INVALID_ARGUMENT: You must feed a value for placeholder tensor 'gradients/split_2_grad/concat/split_2/split_dim' with dtype int32\n",
      "\t [[{{node gradients/split_2_grad/concat/split_2/split_dim}}]]\n",
      "2023-06-18 19:54:51.727428: I tensorflow/core/common_runtime/executor.cc:1197] [/device:CPU:0] (DEBUG INFO) Executor start aborting (this does not indicate an error and you can ignore this message): INVALID_ARGUMENT: You must feed a value for placeholder tensor 'gradients/split_grad/concat/split/split_dim' with dtype int32\n",
      "\t [[{{node gradients/split_grad/concat/split/split_dim}}]]\n",
      "2023-06-18 19:54:51.729273: I tensorflow/core/common_runtime/executor.cc:1197] [/device:CPU:0] (DEBUG INFO) Executor start aborting (this does not indicate an error and you can ignore this message): INVALID_ARGUMENT: You must feed a value for placeholder tensor 'gradients/split_1_grad/concat/split_1/split_dim' with dtype int32\n",
      "\t [[{{node gradients/split_1_grad/concat/split_1/split_dim}}]]\n",
      "2023-06-18 19:54:51.984000: I tensorflow/core/common_runtime/executor.cc:1197] [/device:CPU:0] (DEBUG INFO) Executor start aborting (this does not indicate an error and you can ignore this message): INVALID_ARGUMENT: You must feed a value for placeholder tensor 'gradients/split_2_grad/concat/split_2/split_dim' with dtype int32\n",
      "\t [[{{node gradients/split_2_grad/concat/split_2/split_dim}}]]\n",
      "2023-06-18 19:54:51.986040: I tensorflow/core/common_runtime/executor.cc:1197] [/device:CPU:0] (DEBUG INFO) Executor start aborting (this does not indicate an error and you can ignore this message): INVALID_ARGUMENT: You must feed a value for placeholder tensor 'gradients/split_grad/concat/split/split_dim' with dtype int32\n",
      "\t [[{{node gradients/split_grad/concat/split/split_dim}}]]\n",
      "2023-06-18 19:54:51.987867: I tensorflow/core/common_runtime/executor.cc:1197] [/device:CPU:0] (DEBUG INFO) Executor start aborting (this does not indicate an error and you can ignore this message): INVALID_ARGUMENT: You must feed a value for placeholder tensor 'gradients/split_1_grad/concat/split_1/split_dim' with dtype int32\n",
      "\t [[{{node gradients/split_1_grad/concat/split_1/split_dim}}]]\n",
      "2023-06-18 19:54:53.257898: I tensorflow/core/common_runtime/executor.cc:1197] [/device:CPU:0] (DEBUG INFO) Executor start aborting (this does not indicate an error and you can ignore this message): INVALID_ARGUMENT: You must feed a value for placeholder tensor 'gradients/split_2_grad/concat/split_2/split_dim' with dtype int32\n",
      "\t [[{{node gradients/split_2_grad/concat/split_2/split_dim}}]]\n",
      "2023-06-18 19:54:53.259839: I tensorflow/core/common_runtime/executor.cc:1197] [/device:CPU:0] (DEBUG INFO) Executor start aborting (this does not indicate an error and you can ignore this message): INVALID_ARGUMENT: You must feed a value for placeholder tensor 'gradients/split_grad/concat/split/split_dim' with dtype int32\n",
      "\t [[{{node gradients/split_grad/concat/split/split_dim}}]]\n",
      "2023-06-18 19:54:53.261718: I tensorflow/core/common_runtime/executor.cc:1197] [/device:CPU:0] (DEBUG INFO) Executor start aborting (this does not indicate an error and you can ignore this message): INVALID_ARGUMENT: You must feed a value for placeholder tensor 'gradients/split_1_grad/concat/split_1/split_dim' with dtype int32\n",
      "\t [[{{node gradients/split_1_grad/concat/split_1/split_dim}}]]\n",
      "2023-06-18 19:54:53.514503: I tensorflow/core/common_runtime/executor.cc:1197] [/device:CPU:0] (DEBUG INFO) Executor start aborting (this does not indicate an error and you can ignore this message): INVALID_ARGUMENT: You must feed a value for placeholder tensor 'gradients/split_2_grad/concat/split_2/split_dim' with dtype int32\n",
      "\t [[{{node gradients/split_2_grad/concat/split_2/split_dim}}]]\n",
      "2023-06-18 19:54:53.516658: I tensorflow/core/common_runtime/executor.cc:1197] [/device:CPU:0] (DEBUG INFO) Executor start aborting (this does not indicate an error and you can ignore this message): INVALID_ARGUMENT: You must feed a value for placeholder tensor 'gradients/split_grad/concat/split/split_dim' with dtype int32\n",
      "\t [[{{node gradients/split_grad/concat/split/split_dim}}]]\n",
      "2023-06-18 19:54:53.518354: I tensorflow/core/common_runtime/executor.cc:1197] [/device:CPU:0] (DEBUG INFO) Executor start aborting (this does not indicate an error and you can ignore this message): INVALID_ARGUMENT: You must feed a value for placeholder tensor 'gradients/split_1_grad/concat/split_1/split_dim' with dtype int32\n",
      "\t [[{{node gradients/split_1_grad/concat/split_1/split_dim}}]]\n"
     ]
    },
    {
     "name": "stdout",
     "output_type": "stream",
     "text": [
      "20623/20623 [==============================] - ETA: 0s - loss: 0.0260"
     ]
    },
    {
     "name": "stderr",
     "output_type": "stream",
     "text": [
      "2023-06-18 19:56:16.369323: I tensorflow/core/common_runtime/executor.cc:1197] [/device:CPU:0] (DEBUG INFO) Executor start aborting (this does not indicate an error and you can ignore this message): INVALID_ARGUMENT: You must feed a value for placeholder tensor 'gradients/split_2_grad/concat/split_2/split_dim' with dtype int32\n",
      "\t [[{{node gradients/split_2_grad/concat/split_2/split_dim}}]]\n",
      "2023-06-18 19:56:16.371051: I tensorflow/core/common_runtime/executor.cc:1197] [/device:CPU:0] (DEBUG INFO) Executor start aborting (this does not indicate an error and you can ignore this message): INVALID_ARGUMENT: You must feed a value for placeholder tensor 'gradients/split_grad/concat/split/split_dim' with dtype int32\n",
      "\t [[{{node gradients/split_grad/concat/split/split_dim}}]]\n",
      "2023-06-18 19:56:16.372731: I tensorflow/core/common_runtime/executor.cc:1197] [/device:CPU:0] (DEBUG INFO) Executor start aborting (this does not indicate an error and you can ignore this message): INVALID_ARGUMENT: You must feed a value for placeholder tensor 'gradients/split_1_grad/concat/split_1/split_dim' with dtype int32\n",
      "\t [[{{node gradients/split_1_grad/concat/split_1/split_dim}}]]\n",
      "2023-06-18 19:56:16.611093: I tensorflow/core/common_runtime/executor.cc:1197] [/device:CPU:0] (DEBUG INFO) Executor start aborting (this does not indicate an error and you can ignore this message): INVALID_ARGUMENT: You must feed a value for placeholder tensor 'gradients/split_2_grad/concat/split_2/split_dim' with dtype int32\n",
      "\t [[{{node gradients/split_2_grad/concat/split_2/split_dim}}]]\n",
      "2023-06-18 19:56:16.612839: I tensorflow/core/common_runtime/executor.cc:1197] [/device:CPU:0] (DEBUG INFO) Executor start aborting (this does not indicate an error and you can ignore this message): INVALID_ARGUMENT: You must feed a value for placeholder tensor 'gradients/split_grad/concat/split/split_dim' with dtype int32\n",
      "\t [[{{node gradients/split_grad/concat/split/split_dim}}]]\n",
      "2023-06-18 19:56:16.614690: I tensorflow/core/common_runtime/executor.cc:1197] [/device:CPU:0] (DEBUG INFO) Executor start aborting (this does not indicate an error and you can ignore this message): INVALID_ARGUMENT: You must feed a value for placeholder tensor 'gradients/split_1_grad/concat/split_1/split_dim' with dtype int32\n",
      "\t [[{{node gradients/split_1_grad/concat/split_1/split_dim}}]]\n"
     ]
    },
    {
     "name": "stdout",
     "output_type": "stream",
     "text": [
      "20623/20623 [==============================] - 93s 4ms/step - loss: 0.0260 - val_loss: 0.0220\n",
      "Epoch 2/30\n",
      "20623/20623 [==============================] - 90s 4ms/step - loss: 0.0215 - val_loss: 0.0198\n",
      "Epoch 3/30\n",
      "20623/20623 [==============================] - 88s 4ms/step - loss: 0.0190 - val_loss: 0.0180\n",
      "Epoch 4/30\n",
      "20623/20623 [==============================] - 88s 4ms/step - loss: 0.0176 - val_loss: 0.0164\n",
      "Epoch 5/30\n",
      "20623/20623 [==============================] - 88s 4ms/step - loss: 0.0170 - val_loss: 0.0186\n",
      "Epoch 6/30\n",
      "20623/20623 [==============================] - 88s 4ms/step - loss: 0.0166 - val_loss: 0.0157\n",
      "Epoch 7/30\n",
      "20623/20623 [==============================] - 88s 4ms/step - loss: 0.0163 - val_loss: 0.0166\n",
      "Epoch 8/30\n",
      "20623/20623 [==============================] - 88s 4ms/step - loss: 0.0160 - val_loss: 0.0157\n",
      "Epoch 9/30\n",
      "20623/20623 [==============================] - 88s 4ms/step - loss: 0.0158 - val_loss: 0.0160\n",
      "Epoch 10/30\n",
      "20623/20623 [==============================] - 96s 5ms/step - loss: 0.0158 - val_loss: 0.0147\n",
      "Epoch 11/30\n",
      "20623/20623 [==============================] - 100s 5ms/step - loss: 0.0156 - val_loss: 0.0150\n",
      "Epoch 12/30\n",
      "20623/20623 [==============================] - 103s 5ms/step - loss: 0.0152 - val_loss: 0.0159\n",
      "Epoch 13/30\n",
      "20623/20623 [==============================] - 102s 5ms/step - loss: 0.0151 - val_loss: 0.0143\n",
      "Epoch 14/30\n",
      "20623/20623 [==============================] - 110s 5ms/step - loss: 0.0150 - val_loss: 0.0147\n",
      "Epoch 15/30\n",
      "20623/20623 [==============================] - 97s 5ms/step - loss: 0.0148 - val_loss: 0.0145\n",
      "Epoch 16/30\n",
      "20623/20623 [==============================] - 102s 5ms/step - loss: 0.0147 - val_loss: 0.0145\n",
      "Epoch 17/30\n",
      "20623/20623 [==============================] - 109s 5ms/step - loss: 0.0145 - val_loss: 0.0144\n",
      "Epoch 18/30\n",
      "20623/20623 [==============================] - 103s 5ms/step - loss: 0.0146 - val_loss: 0.0142\n",
      "Epoch 19/30\n",
      "20623/20623 [==============================] - 105s 5ms/step - loss: 0.0144 - val_loss: 0.0141\n",
      "Epoch 20/30\n",
      "20623/20623 [==============================] - 112s 5ms/step - loss: 0.0141 - val_loss: 0.0141\n",
      "Epoch 21/30\n",
      "20623/20623 [==============================] - 116s 6ms/step - loss: 0.0142 - val_loss: 0.0139\n",
      "Epoch 22/30\n",
      "20623/20623 [==============================] - 145s 7ms/step - loss: 0.0140 - val_loss: 0.0145\n",
      "Epoch 23/30\n",
      "20623/20623 [==============================] - 137s 7ms/step - loss: 0.0138 - val_loss: 0.0138\n",
      "Epoch 24/30\n",
      "20623/20623 [==============================] - 140s 7ms/step - loss: 0.0138 - val_loss: 0.0136\n",
      "Epoch 25/30\n",
      "20623/20623 [==============================] - 127s 6ms/step - loss: 0.0136 - val_loss: 0.0141\n",
      "Epoch 26/30\n",
      "20623/20623 [==============================] - 123s 6ms/step - loss: 0.0135 - val_loss: 0.0137\n",
      "Epoch 27/30\n",
      "20623/20623 [==============================] - 122s 6ms/step - loss: 0.0135 - val_loss: 0.0129\n",
      "Epoch 28/30\n",
      "20623/20623 [==============================] - 120s 6ms/step - loss: 0.0133 - val_loss: 0.0127\n",
      "Epoch 29/30\n",
      "20623/20623 [==============================] - 122s 6ms/step - loss: 0.0130 - val_loss: 0.0131\n",
      "Epoch 30/30\n",
      "20623/20623 [==============================] - 117s 6ms/step - loss: 0.0129 - val_loss: 0.0132\n"
     ]
    }
   ],
   "source": [
    "history = model.fit(features, target, validation_split = 0.2, epochs = 30, batch_size = 64,\n",
    "                callbacks = [tf.keras.callbacks.EarlyStopping(patience = 7, \n",
    "                                                              monitor = 'val_loss', \n",
    "                                                              mode = 'min', \n",
    "                                                              restore_best_weights=True)])"
   ]
  },
  {
   "cell_type": "markdown",
   "id": "90512e75",
   "metadata": {},
   "source": [
    "#### LOSS CURVE"
   ]
  },
  {
   "cell_type": "code",
   "execution_count": 21,
   "id": "260641e9",
   "metadata": {},
   "outputs": [
    {
     "data": {
      "image/png": "[encoded data removed]",
      "text/plain": [
       "<Figure size 2000x500 with 1 Axes>"
      ]
     },
     "metadata": {},
     "output_type": "display_data"
    }
   ],
   "source": [
    "import matplotlib.pyplot as plt\n",
    "plt.figure(figsize = (20, 5))\n",
    "plt.plot(history.history['loss'], label = \"loss\")\n",
    "plt.plot(history.history['val_loss'], label = \"val_loss\")\n",
    "plt.legend()\n",
    "plt.show()"
   ]
  },
  {
   "cell_type": "markdown",
   "id": "7e53d8d3",
   "metadata": {},
   "source": [
    "### TRAIN PERFORMANCE"
   ]
  },
  {
   "cell_type": "code",
   "execution_count": 22,
   "id": "11f0e648",
   "metadata": {},
   "outputs": [
    {
     "name": "stderr",
     "output_type": "stream",
     "text": [
      "2023-06-18 20:48:23.172926: I tensorflow/core/common_runtime/executor.cc:1197] [/device:CPU:0] (DEBUG INFO) Executor start aborting (this does not indicate an error and you can ignore this message): INVALID_ARGUMENT: You must feed a value for placeholder tensor 'gradients/split_2_grad/concat/split_2/split_dim' with dtype int32\n",
      "\t [[{{node gradients/split_2_grad/concat/split_2/split_dim}}]]\n",
      "2023-06-18 20:48:23.175191: I tensorflow/core/common_runtime/executor.cc:1197] [/device:CPU:0] (DEBUG INFO) Executor start aborting (this does not indicate an error and you can ignore this message): INVALID_ARGUMENT: You must feed a value for placeholder tensor 'gradients/split_grad/concat/split/split_dim' with dtype int32\n",
      "\t [[{{node gradients/split_grad/concat/split/split_dim}}]]\n",
      "2023-06-18 20:48:23.176902: I tensorflow/core/common_runtime/executor.cc:1197] [/device:CPU:0] (DEBUG INFO) Executor start aborting (this does not indicate an error and you can ignore this message): INVALID_ARGUMENT: You must feed a value for placeholder tensor 'gradients/split_1_grad/concat/split_1/split_dim' with dtype int32\n",
      "\t [[{{node gradients/split_1_grad/concat/split_1/split_dim}}]]\n",
      "2023-06-18 20:48:23.448218: I tensorflow/core/common_runtime/executor.cc:1197] [/device:CPU:0] (DEBUG INFO) Executor start aborting (this does not indicate an error and you can ignore this message): INVALID_ARGUMENT: You must feed a value for placeholder tensor 'gradients/split_2_grad/concat/split_2/split_dim' with dtype int32\n",
      "\t [[{{node gradients/split_2_grad/concat/split_2/split_dim}}]]\n",
      "2023-06-18 20:48:23.450499: I tensorflow/core/common_runtime/executor.cc:1197] [/device:CPU:0] (DEBUG INFO) Executor start aborting (this does not indicate an error and you can ignore this message): INVALID_ARGUMENT: You must feed a value for placeholder tensor 'gradients/split_grad/concat/split/split_dim' with dtype int32\n",
      "\t [[{{node gradients/split_grad/concat/split/split_dim}}]]\n",
      "2023-06-18 20:48:23.452238: I tensorflow/core/common_runtime/executor.cc:1197] [/device:CPU:0] (DEBUG INFO) Executor start aborting (this does not indicate an error and you can ignore this message): INVALID_ARGUMENT: You must feed a value for placeholder tensor 'gradients/split_1_grad/concat/split_1/split_dim' with dtype int32\n",
      "\t [[{{node gradients/split_1_grad/concat/split_1/split_dim}}]]\n"
     ]
    },
    {
     "name": "stdout",
     "output_type": "stream",
     "text": [
      "25778/25778 [==============================] - 47s 2ms/step\n"
     ]
    }
   ],
   "source": [
    "y_features=model.predict(features, batch_size = 64)"
   ]
  },
  {
   "cell_type": "code",
   "execution_count": 23,
   "id": "2dd6a91c",
   "metadata": {},
   "outputs": [],
   "source": [
    "y_features_binary = (y_features > 0.5).astype(int)"
   ]
  },
  {
   "cell_type": "markdown",
   "id": "c3121e4a",
   "metadata": {},
   "source": [
    "#### Evaluation of Performance Metrics"
   ]
  },
  {
   "cell_type": "code",
   "execution_count": 24,
   "id": "12e87b97",
   "metadata": {},
   "outputs": [
    {
     "name": "stdout",
     "output_type": "stream",
     "text": [
      "Accuracy: 0.987115\n",
      "Precision: 0.989650\n",
      "Recall: 0.984517\n"
     ]
    }
   ],
   "source": [
    "# demonstration of calculating metrics for a neural network model using sklearn\n",
    "from sklearn.metrics import accuracy_score\n",
    "from sklearn.metrics import precision_score\n",
    "from sklearn.metrics import recall_score\n",
    "from sklearn.metrics import confusion_matrix\n",
    "\n",
    "# accuracy: (tp + tn) / (p + n)\n",
    "accuracy = accuracy_score(target,y_features_binary)\n",
    "print('Accuracy: %f' % accuracy)\n",
    "# precision tp / (tp + fp)\n",
    "precision = precision_score(target, y_features_binary)\n",
    "print('Precision: %f' % precision)\n",
    "# recall: tp / (tp + fn)\n",
    "recall = recall_score(target, y_features_binary)\n",
    "print('Recall: %f' % recall)"
   ]
  },
  {
   "cell_type": "markdown",
   "id": "2fc42ff1",
   "metadata": {},
   "source": [
    "#### In class imbalance problems, Precision and recall are given more importance. Trained  LSTM is showing excellent performance on train dataset."
   ]
  },
  {
   "cell_type": "markdown",
   "id": "6163cd70",
   "metadata": {},
   "source": [
    "##### Considering Misclassifications"
   ]
  },
  {
   "cell_type": "code",
   "execution_count": 25,
   "id": "4ab41b8d",
   "metadata": {},
   "outputs": [],
   "source": [
    "def create_table(target, y_pred,weights):\n",
    "    target = np.reshape(target, -1)\n",
    "    y_pred = np.reshape(y_pred, -1)\n",
    "    weights=np.reshape(weights,-1)\n",
    "    return pd.DataFrame({\"actual values\": target,\n",
    "                         \"weights\":weights,\n",
    "                         \"predict values\": y_pred,\n",
    "                         \"diff\": np.abs(target - y_pred)})"
   ]
  },
  {
   "cell_type": "code",
   "execution_count": 26,
   "id": "6718362a",
   "metadata": {},
   "outputs": [],
   "source": [
    "df_pred=create_table(target, y_features_binary,y_features)"
   ]
  },
  {
   "cell_type": "code",
   "execution_count": 27,
   "id": "68110d9d",
   "metadata": {},
   "outputs": [
    {
     "data": {
      "text/html": [
       "<div>\n",
       "<style scoped>\n",
       "    .dataframe tbody tr th:only-of-type {\n",
       "        vertical-align: middle;\n",
       "    }\n",
       "\n",
       "    .dataframe tbody tr th {\n",
       "        vertical-align: top;\n",
       "    }\n",
       "\n",
       "    .dataframe thead th {\n",
       "        text-align: right;\n",
       "    }\n",
       "</style>\n",
       "<table border=\"1\" class=\"dataframe\">\n",
       "  <thead>\n",
       "    <tr style=\"text-align: right;\">\n",
       "      <th></th>\n",
       "      <th>actual values</th>\n",
       "      <th>weights</th>\n",
       "      <th>predict values</th>\n",
       "      <th>diff</th>\n",
       "    </tr>\n",
       "  </thead>\n",
       "  <tbody>\n",
       "    <tr>\n",
       "      <th>50</th>\n",
       "      <td>1</td>\n",
       "      <td>4.916738e-12</td>\n",
       "      <td>0</td>\n",
       "      <td>1</td>\n",
       "    </tr>\n",
       "    <tr>\n",
       "      <th>66</th>\n",
       "      <td>1</td>\n",
       "      <td>2.775680e-25</td>\n",
       "      <td>0</td>\n",
       "      <td>1</td>\n",
       "    </tr>\n",
       "    <tr>\n",
       "      <th>224</th>\n",
       "      <td>1</td>\n",
       "      <td>7.452698e-10</td>\n",
       "      <td>0</td>\n",
       "      <td>1</td>\n",
       "    </tr>\n",
       "    <tr>\n",
       "      <th>356</th>\n",
       "      <td>1</td>\n",
       "      <td>4.248459e-22</td>\n",
       "      <td>0</td>\n",
       "      <td>1</td>\n",
       "    </tr>\n",
       "    <tr>\n",
       "      <th>368</th>\n",
       "      <td>1</td>\n",
       "      <td>1.014307e-16</td>\n",
       "      <td>0</td>\n",
       "      <td>1</td>\n",
       "    </tr>\n",
       "    <tr>\n",
       "      <th>...</th>\n",
       "      <td>...</td>\n",
       "      <td>...</td>\n",
       "      <td>...</td>\n",
       "      <td>...</td>\n",
       "    </tr>\n",
       "    <tr>\n",
       "      <th>1649515</th>\n",
       "      <td>1</td>\n",
       "      <td>5.320709e-02</td>\n",
       "      <td>0</td>\n",
       "      <td>1</td>\n",
       "    </tr>\n",
       "    <tr>\n",
       "      <th>1649549</th>\n",
       "      <td>1</td>\n",
       "      <td>8.065366e-35</td>\n",
       "      <td>0</td>\n",
       "      <td>1</td>\n",
       "    </tr>\n",
       "    <tr>\n",
       "      <th>1649595</th>\n",
       "      <td>0</td>\n",
       "      <td>9.999996e-01</td>\n",
       "      <td>1</td>\n",
       "      <td>1</td>\n",
       "    </tr>\n",
       "    <tr>\n",
       "      <th>1649631</th>\n",
       "      <td>0</td>\n",
       "      <td>1.000000e+00</td>\n",
       "      <td>1</td>\n",
       "      <td>1</td>\n",
       "    </tr>\n",
       "    <tr>\n",
       "      <th>1649681</th>\n",
       "      <td>1</td>\n",
       "      <td>7.019334e-02</td>\n",
       "      <td>0</td>\n",
       "      <td>1</td>\n",
       "    </tr>\n",
       "  </tbody>\n",
       "</table>\n",
       "<p>21257 rows × 4 columns</p>\n",
       "</div>"
      ],
      "text/plain": [
       "         actual values       weights  predict values  diff\n",
       "50                   1  4.916738e-12               0     1\n",
       "66                   1  2.775680e-25               0     1\n",
       "224                  1  7.452698e-10               0     1\n",
       "356                  1  4.248459e-22               0     1\n",
       "368                  1  1.014307e-16               0     1\n",
       "...                ...           ...             ...   ...\n",
       "1649515              1  5.320709e-02               0     1\n",
       "1649549              1  8.065366e-35               0     1\n",
       "1649595              0  9.999996e-01               1     1\n",
       "1649631              0  1.000000e+00               1     1\n",
       "1649681              1  7.019334e-02               0     1\n",
       "\n",
       "[21257 rows x 4 columns]"
      ]
     },
     "execution_count": 27,
     "metadata": {},
     "output_type": "execute_result"
    }
   ],
   "source": [
    "df_pred[df_pred['diff'] == 1]"
   ]
  },
  {
   "cell_type": "markdown",
   "id": "caa63195",
   "metadata": {},
   "source": [
    "#### Classification Report"
   ]
  },
  {
   "cell_type": "code",
   "execution_count": 28,
   "id": "5c52f49c",
   "metadata": {},
   "outputs": [
    {
     "name": "stdout",
     "output_type": "stream",
     "text": [
      "              precision    recall  f1-score   support\n",
      "\n",
      "           0       0.98      0.99      0.99    825170\n",
      "           1       0.99      0.98      0.99    824603\n",
      "\n",
      "    accuracy                           0.99   1649773\n",
      "   macro avg       0.99      0.99      0.99   1649773\n",
      "weighted avg       0.99      0.99      0.99   1649773\n",
      "\n"
     ]
    }
   ],
   "source": [
    "from sklearn.metrics import classification_report\n",
    "print(classification_report(target, y_features_binary))"
   ]
  },
  {
   "cell_type": "markdown",
   "id": "d75ed326",
   "metadata": {},
   "source": [
    "###### Precision-Recall Curve \n",
    "* The precision-recall curve is an essential evaluation metric in credit card fraud detection due to its ability to handle imbalanced data, focus on fraud cases, capture the precision-recall trade-off, aid decision threshold selection, enable model comparison, and provide a comprehensive assessment of model performance."
   ]
  },
  {
   "cell_type": "code",
   "execution_count": 29,
   "id": "0c1f4ac6",
   "metadata": {},
   "outputs": [
    {
     "data": {
      "image/png": "[encoded data removed]",
      "text/plain": [
       "<Figure size 640x480 with 1 Axes>"
      ]
     },
     "metadata": {},
     "output_type": "display_data"
    }
   ],
   "source": [
    "from sklearn.metrics import precision_recall_curve, auc\n",
    "import matplotlib.pyplot as plt\n",
    "precision, recall, thresholds = precision_recall_curve(target, y_features_binary)\n",
    "auprc = auc(recall, precision)\n",
    "plt.plot(recall, precision, label='LSTM (AUPRC = {:.3f})'.format(auprc))\n",
    "plt.xlabel('Recall')\n",
    "plt.ylabel('Precision')\n",
    "plt.title('Precision-Recall Curve')\n",
    "plt.legend()\n",
    "plt.show()"
   ]
  },
  {
   "cell_type": "markdown",
   "id": "60434e34",
   "metadata": {},
   "source": [
    "### TEST PERFORMANCE"
   ]
  },
  {
   "cell_type": "code",
   "execution_count": 30,
   "id": "0e10a535",
   "metadata": {},
   "outputs": [],
   "source": [
    "x_test=np.array(x_test)"
   ]
  },
  {
   "cell_type": "code",
   "execution_count": 31,
   "id": "f2342917",
   "metadata": {},
   "outputs": [],
   "source": [
    "x_test_reshaped=x_test.reshape(x_test.shape[0],1, x_test.shape[1])"
   ]
  },
  {
   "cell_type": "code",
   "execution_count": 32,
   "id": "9040c2ce",
   "metadata": {},
   "outputs": [
    {
     "data": {
      "text/plain": [
       "(412444, 1)"
      ]
     },
     "execution_count": 32,
     "metadata": {},
     "output_type": "execute_result"
    }
   ],
   "source": [
    "y_test = np.array(y_test)\n",
    "y_test.shape"
   ]
  },
  {
   "cell_type": "code",
   "execution_count": 33,
   "id": "b7fbdd30",
   "metadata": {},
   "outputs": [
    {
     "name": "stdout",
     "output_type": "stream",
     "text": [
      "6445/6445 [==============================] - 9s 1ms/step\n"
     ]
    }
   ],
   "source": [
    "y_pred = model.predict(x_test_reshaped, batch_size = 64)"
   ]
  },
  {
   "cell_type": "code",
   "execution_count": 34,
   "id": "d7dde103",
   "metadata": {},
   "outputs": [],
   "source": [
    "y_pred_binary = (y_pred > 0.5).astype(int)"
   ]
  },
  {
   "cell_type": "code",
   "execution_count": 35,
   "id": "e1c50ff7",
   "metadata": {},
   "outputs": [
    {
     "name": "stdout",
     "output_type": "stream",
     "text": [
      "Accuracy: 0.986742\n",
      "Precision: 0.989262\n",
      "Recall: 0.984167\n"
     ]
    }
   ],
   "source": [
    "# demonstration of calculating metrics for a neural network model using sklearn\n",
    "from sklearn.metrics import accuracy_score\n",
    "from sklearn.metrics import precision_score\n",
    "from sklearn.metrics import recall_score\n",
    "from sklearn.metrics import confusion_matrix\n",
    "\n",
    "# accuracy: (tp + tn) / (p + n)\n",
    "accuracy = accuracy_score(y_test, y_pred_binary)\n",
    "print('Accuracy: %f' % accuracy)\n",
    "# precision tp / (tp + fp)\n",
    "precision = precision_score(y_test, y_pred_binary)\n",
    "print('Precision: %f' % precision)\n",
    "# recall: tp / (tp + fn)\n",
    "recall = recall_score(y_test, y_pred_binary)\n",
    "print('Recall: %f' % recall)"
   ]
  },
  {
   "cell_type": "markdown",
   "id": "c26cc0ac",
   "metadata": {},
   "source": [
    "#### In class imbalance problems, Precision and recall are given more importance. Trained LSTM is showing excellent performance on test (unseen) dataset , thus indicating it has learned patterns of fraud quite well ."
   ]
  },
  {
   "cell_type": "markdown",
   "id": "8132b552",
   "metadata": {},
   "source": [
    "#### Considering Misclassifications"
   ]
  },
  {
   "cell_type": "code",
   "execution_count": 36,
   "id": "2b2f9c31",
   "metadata": {},
   "outputs": [],
   "source": [
    "df_pred_test=create_table(y_test, y_pred_binary,y_pred)"
   ]
  },
  {
   "cell_type": "code",
   "execution_count": 37,
   "id": "b8f922dc",
   "metadata": {},
   "outputs": [
    {
     "data": {
      "text/html": [
       "<div>\n",
       "<style scoped>\n",
       "    .dataframe tbody tr th:only-of-type {\n",
       "        vertical-align: middle;\n",
       "    }\n",
       "\n",
       "    .dataframe tbody tr th {\n",
       "        vertical-align: top;\n",
       "    }\n",
       "\n",
       "    .dataframe thead th {\n",
       "        text-align: right;\n",
       "    }\n",
       "</style>\n",
       "<table border=\"1\" class=\"dataframe\">\n",
       "  <thead>\n",
       "    <tr style=\"text-align: right;\">\n",
       "      <th></th>\n",
       "      <th>actual values</th>\n",
       "      <th>weights</th>\n",
       "      <th>predict values</th>\n",
       "      <th>diff</th>\n",
       "    </tr>\n",
       "  </thead>\n",
       "  <tbody>\n",
       "    <tr>\n",
       "      <th>42</th>\n",
       "      <td>0</td>\n",
       "      <td>1.000000e+00</td>\n",
       "      <td>1</td>\n",
       "      <td>1</td>\n",
       "    </tr>\n",
       "    <tr>\n",
       "      <th>44</th>\n",
       "      <td>0</td>\n",
       "      <td>9.919722e-01</td>\n",
       "      <td>1</td>\n",
       "      <td>1</td>\n",
       "    </tr>\n",
       "    <tr>\n",
       "      <th>152</th>\n",
       "      <td>0</td>\n",
       "      <td>9.547611e-01</td>\n",
       "      <td>1</td>\n",
       "      <td>1</td>\n",
       "    </tr>\n",
       "    <tr>\n",
       "      <th>224</th>\n",
       "      <td>1</td>\n",
       "      <td>6.281315e-07</td>\n",
       "      <td>0</td>\n",
       "      <td>1</td>\n",
       "    </tr>\n",
       "    <tr>\n",
       "      <th>279</th>\n",
       "      <td>0</td>\n",
       "      <td>1.000000e+00</td>\n",
       "      <td>1</td>\n",
       "      <td>1</td>\n",
       "    </tr>\n",
       "    <tr>\n",
       "      <th>...</th>\n",
       "      <td>...</td>\n",
       "      <td>...</td>\n",
       "      <td>...</td>\n",
       "      <td>...</td>\n",
       "    </tr>\n",
       "    <tr>\n",
       "      <th>412098</th>\n",
       "      <td>0</td>\n",
       "      <td>1.000000e+00</td>\n",
       "      <td>1</td>\n",
       "      <td>1</td>\n",
       "    </tr>\n",
       "    <tr>\n",
       "      <th>412116</th>\n",
       "      <td>1</td>\n",
       "      <td>5.795917e-02</td>\n",
       "      <td>0</td>\n",
       "      <td>1</td>\n",
       "    </tr>\n",
       "    <tr>\n",
       "      <th>412195</th>\n",
       "      <td>0</td>\n",
       "      <td>1.000000e+00</td>\n",
       "      <td>1</td>\n",
       "      <td>1</td>\n",
       "    </tr>\n",
       "    <tr>\n",
       "      <th>412305</th>\n",
       "      <td>1</td>\n",
       "      <td>2.474828e-09</td>\n",
       "      <td>0</td>\n",
       "      <td>1</td>\n",
       "    </tr>\n",
       "    <tr>\n",
       "      <th>412337</th>\n",
       "      <td>1</td>\n",
       "      <td>3.089496e-26</td>\n",
       "      <td>0</td>\n",
       "      <td>1</td>\n",
       "    </tr>\n",
       "  </tbody>\n",
       "</table>\n",
       "<p>5468 rows × 4 columns</p>\n",
       "</div>"
      ],
      "text/plain": [
       "        actual values       weights  predict values  diff\n",
       "42                  0  1.000000e+00               1     1\n",
       "44                  0  9.919722e-01               1     1\n",
       "152                 0  9.547611e-01               1     1\n",
       "224                 1  6.281315e-07               0     1\n",
       "279                 0  1.000000e+00               1     1\n",
       "...               ...           ...             ...   ...\n",
       "412098              0  1.000000e+00               1     1\n",
       "412116              1  5.795917e-02               0     1\n",
       "412195              0  1.000000e+00               1     1\n",
       "412305              1  2.474828e-09               0     1\n",
       "412337              1  3.089496e-26               0     1\n",
       "\n",
       "[5468 rows x 4 columns]"
      ]
     },
     "execution_count": 37,
     "metadata": {},
     "output_type": "execute_result"
    }
   ],
   "source": [
    "df_pred_test[df_pred_test['diff'] == 1]"
   ]
  },
  {
   "cell_type": "code",
   "execution_count": 38,
   "id": "ace8344a",
   "metadata": {},
   "outputs": [
    {
     "data": {
      "text/plain": [
       "array([[204027,   2203],\n",
       "       [  3265, 202949]])"
      ]
     },
     "execution_count": 38,
     "metadata": {},
     "output_type": "execute_result"
    }
   ],
   "source": [
    "confusion_matrix(y_test, y_pred_binary)"
   ]
  },
  {
   "cell_type": "markdown",
   "id": "74090860",
   "metadata": {},
   "source": [
    "#### Classification Report"
   ]
  },
  {
   "cell_type": "code",
   "execution_count": 39,
   "id": "333fd92b",
   "metadata": {},
   "outputs": [
    {
     "name": "stdout",
     "output_type": "stream",
     "text": [
      "              precision    recall  f1-score   support\n",
      "\n",
      "           0       0.98      0.99      0.99    206230\n",
      "           1       0.99      0.98      0.99    206214\n",
      "\n",
      "    accuracy                           0.99    412444\n",
      "   macro avg       0.99      0.99      0.99    412444\n",
      "weighted avg       0.99      0.99      0.99    412444\n",
      "\n"
     ]
    }
   ],
   "source": [
    "from sklearn.metrics import classification_report\n",
    "print(classification_report(y_test, y_pred_binary))"
   ]
  },
  {
   "cell_type": "code",
   "execution_count": 40,
   "id": "4d08d94b",
   "metadata": {},
   "outputs": [],
   "source": [
    "def draw_result(start, end, target, y_pred_binary):\n",
    "    plt.figure(figsize = (20, 7))\n",
    "    plt.plot(np.reshape(target[start:end], -1), linewidth=5, label = \"actual values\")\n",
    "    plt.plot(np.reshape(y_pred_binary[start:end], -1), linewidth=2, label = \"predicted values\")\n",
    "    plt.legend()"
   ]
  },
  {
   "cell_type": "code",
   "execution_count": 41,
   "id": "34223622",
   "metadata": {},
   "outputs": [
    {
     "data": {
      "image/png": "[encoded data removed]",
      "text/plain": [
       "<Figure size 2000x700 with 1 Axes>"
      ]
     },
     "metadata": {},
     "output_type": "display_data"
    }
   ],
   "source": [
    "draw_result(20000,30000, y_test, y_pred_binary)"
   ]
  },
  {
   "cell_type": "markdown",
   "id": "510cb4d1",
   "metadata": {},
   "source": [
    "##### Precision-Recall Curve\n",
    "* The precision-recall curve is an essential evaluation metric in credit card fraud detection due to its ability to handle imbalanced data, focus on fraud cases, capture the precision-recall trade-off, aid decision threshold selection, enable model comparison, and provide a comprehensive assessment of model performance."
   ]
  },
  {
   "cell_type": "code",
   "execution_count": 42,
   "id": "39430829",
   "metadata": {},
   "outputs": [
    {
     "data": {
      "image/png": "[encoded data removed]",
      "text/plain": [
       "<Figure size 640x480 with 1 Axes>"
      ]
     },
     "metadata": {},
     "output_type": "display_data"
    }
   ],
   "source": [
    "from sklearn.metrics import precision_recall_curve, auc\n",
    "import matplotlib.pyplot as plt\n",
    "precision, recall, thresholds = precision_recall_curve(y_test, y_pred_binary)\n",
    "auprc = auc(recall, precision)\n",
    "plt.plot(recall, precision, label='LSTM (AUPRC = {:.3f})'.format(auprc))\n",
    "plt.xlabel('Recall')\n",
    "plt.ylabel('Precision')\n",
    "plt.title('Precision-Recall Curve')\n",
    "plt.legend()\n",
    "plt.show()"
   ]
  },
  {
   "cell_type": "markdown",
   "id": "b0fd362e",
   "metadata": {},
   "source": [
    "##### Saving the model  for combined Predictions"
   ]
  },
  {
   "cell_type": "code",
   "execution_count": 44,
   "id": "a16c153d",
   "metadata": {},
   "outputs": [],
   "source": [
    "model.save('LSTM_model.h5')"
   ]
  },
  {
   "cell_type": "code",
   "execution_count": null,
   "id": "466d077c",
   "metadata": {},
   "outputs": [],
   "source": []
  }
 ],
 "metadata": {
  "kernelspec": {
   "display_name": "Python 3 (ipykernel)",
   "language": "python",
   "name": "python3"
  },
  "language_info": {
   "codemirror_mode": {
    "name": "ipython",
    "version": 3
   },
   "file_extension": ".py",
   "mimetype": "text/x-python",
   "name": "python",
   "nbconvert_exporter": "python",
   "pygments_lexer": "ipython3",
   "version": "3.9.6"
  }
 },
 "nbformat": 4,
 "nbformat_minor": 5
}
